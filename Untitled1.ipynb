{
 "cells": [
  {
   "cell_type": "code",
   "execution_count": 1,
   "metadata": {
    "id": "CCZfXQ_R0uik"
   },
   "outputs": [],
   "source": [
    "import pandas as pd\n",
    "import numpy as np\n",
    "import seaborn as sns\n",
    "import matplotlib.pyplot as plt"
   ]
  },
  {
   "cell_type": "code",
   "execution_count": 2,
   "metadata": {
    "id": "zZOlcvq51ahj"
   },
   "outputs": [],
   "source": [
    "inflightservice_inventory = pd.read_csv(\"Inflight Service_Inventory data.csv\")\n",
    "surverydata_inflightsatisfaction = pd.read_csv(\"Survey data_Inflight Satisfaction Score.csv\")\n",
    "surverydata_customercomments = pd.read_csv(\"Survey data _Customer comments.csv\")\n",
    "inflightservice_preorder = pd.read_csv(\"Inflight Service_Pre order data.csv\")"
   ]
  },
  {
   "cell_type": "code",
   "execution_count": 3,
   "metadata": {
    "colab": {
     "base_uri": "https://localhost:8080/",
     "height": 278
    },
    "id": "VJ-0EkVm1jLy",
    "outputId": "74fbf5d3-0343-4462-e8b7-d4e0d9afa93e"
   },
   "outputs": [
    {
     "data": {
      "text/html": [
       "<div>\n",
       "<style scoped>\n",
       "    .dataframe tbody tr th:only-of-type {\n",
       "        vertical-align: middle;\n",
       "    }\n",
       "\n",
       "    .dataframe tbody tr th {\n",
       "        vertical-align: top;\n",
       "    }\n",
       "\n",
       "    .dataframe thead th {\n",
       "        text-align: right;\n",
       "    }\n",
       "</style>\n",
       "<table border=\"1\" class=\"dataframe\">\n",
       "  <thead>\n",
       "    <tr style=\"text-align: right;\">\n",
       "      <th></th>\n",
       "      <th>flight_number</th>\n",
       "      <th>departure_station_code</th>\n",
       "      <th>arrival_station_code</th>\n",
       "      <th>scheduled_departure_dtl</th>\n",
       "      <th>entree_product_id</th>\n",
       "      <th>entree_description</th>\n",
       "      <th>entree_code</th>\n",
       "      <th>planned_entree_count</th>\n",
       "      <th>consumed_entree_count</th>\n",
       "    </tr>\n",
       "  </thead>\n",
       "  <tbody>\n",
       "    <tr>\n",
       "      <th>0</th>\n",
       "      <td>2634</td>\n",
       "      <td>IAX</td>\n",
       "      <td>PDX</td>\n",
       "      <td>9/1/2022</td>\n",
       "      <td>58019</td>\n",
       "      <td>Belgium waffle</td>\n",
       "      <td>WF</td>\n",
       "      <td>20</td>\n",
       "      <td>32</td>\n",
       "    </tr>\n",
       "    <tr>\n",
       "      <th>1</th>\n",
       "      <td>2666</td>\n",
       "      <td>ORX</td>\n",
       "      <td>IAX</td>\n",
       "      <td>9/1/2022</td>\n",
       "      <td>60549</td>\n",
       "      <td>Vegetarian chili and polenta cake</td>\n",
       "      <td>V</td>\n",
       "      <td>3</td>\n",
       "      <td>0</td>\n",
       "    </tr>\n",
       "    <tr>\n",
       "      <th>2</th>\n",
       "      <td>2310</td>\n",
       "      <td>DEX</td>\n",
       "      <td>SAX</td>\n",
       "      <td>9/2/2022</td>\n",
       "      <td>58981</td>\n",
       "      <td>Scrambled eggs</td>\n",
       "      <td>O</td>\n",
       "      <td>9</td>\n",
       "      <td>7</td>\n",
       "    </tr>\n",
       "    <tr>\n",
       "      <th>3</th>\n",
       "      <td>1712</td>\n",
       "      <td>SFX</td>\n",
       "      <td>CLX</td>\n",
       "      <td>9/4/2022</td>\n",
       "      <td>58764</td>\n",
       "      <td>Mediterranean Falafel Bowl</td>\n",
       "      <td>V</td>\n",
       "      <td>1</td>\n",
       "      <td>0</td>\n",
       "    </tr>\n",
       "    <tr>\n",
       "      <th>4</th>\n",
       "      <td>1225</td>\n",
       "      <td>LAX</td>\n",
       "      <td>HNX</td>\n",
       "      <td>9/8/2022</td>\n",
       "      <td>60549</td>\n",
       "      <td>Vegetarian chili and polenta cake</td>\n",
       "      <td>V</td>\n",
       "      <td>1</td>\n",
       "      <td>0</td>\n",
       "    </tr>\n",
       "  </tbody>\n",
       "</table>\n",
       "</div>"
      ],
      "text/plain": [
       "   flight_number departure_station_code arrival_station_code  \\\n",
       "0           2634                    IAX                  PDX   \n",
       "1           2666                    ORX                  IAX   \n",
       "2           2310                    DEX                  SAX   \n",
       "3           1712                    SFX                  CLX   \n",
       "4           1225                    LAX                  HNX   \n",
       "\n",
       "  scheduled_departure_dtl  entree_product_id  \\\n",
       "0                9/1/2022              58019   \n",
       "1                9/1/2022              60549   \n",
       "2                9/2/2022              58981   \n",
       "3                9/4/2022              58764   \n",
       "4                9/8/2022              60549   \n",
       "\n",
       "                  entree_description entree_code  planned_entree_count  \\\n",
       "0                     Belgium waffle          WF                    20   \n",
       "1  Vegetarian chili and polenta cake           V                     3   \n",
       "2                     Scrambled eggs           O                     9   \n",
       "3         Mediterranean Falafel Bowl           V                     1   \n",
       "4  Vegetarian chili and polenta cake           V                     1   \n",
       "\n",
       "   consumed_entree_count  \n",
       "0                     32  \n",
       "1                      0  \n",
       "2                      7  \n",
       "3                      0  \n",
       "4                      0  "
      ]
     },
     "execution_count": 3,
     "metadata": {},
     "output_type": "execute_result"
    }
   ],
   "source": [
    "inflightservice_inventory.head()"
   ]
  },
  {
   "cell_type": "code",
   "execution_count": 4,
   "metadata": {
    "colab": {
     "base_uri": "https://localhost:8080/"
    },
    "id": "2q0HfIhE7Q4c",
    "outputId": "4e15cd7a-40aa-4bc3-d339-648331a5542a"
   },
   "outputs": [
    {
     "data": {
      "text/plain": [
       "entree_description\n",
       "ASIAN VEGETARIAN MEAL                       606\n",
       "Arepa and black bean relish                   2\n",
       "Bangus fish                                 165\n",
       "Beef and onion stew in red wine sauce       249\n",
       "Beef burger                                 145\n",
       "                                          ...  \n",
       "Tomato, basil and mozzarella sandwich        43\n",
       "Vegetarian chili and polenta cake          4516\n",
       "Vegetarian entree                          5790\n",
       "Zatar chicken                            137864\n",
       "Zatar chicken entree                         12\n",
       "Name: planned_entree_count, Length: 102, dtype: int64"
      ]
     },
     "execution_count": 4,
     "metadata": {},
     "output_type": "execute_result"
    }
   ],
   "source": [
    "planned_entree = inflightservice_inventory.groupby(\"entree_description\")[\"planned_entree_count\"].sum()\n",
    "planned_entree"
   ]
  },
  {
   "cell_type": "code",
   "execution_count": 5,
   "metadata": {
    "colab": {
     "base_uri": "https://localhost:8080/"
    },
    "id": "QZ22M28u-F4_",
    "outputId": "2325fdda-f4d0-4d0d-83ea-64e937971c4b"
   },
   "outputs": [
    {
     "data": {
      "text/plain": [
       "entree_description\n",
       "ASIAN VEGETARIAN MEAL                      354\n",
       "Arepa and black bean relish                  0\n",
       "Bangus fish                                  0\n",
       "Beef and onion stew in red wine sauce        0\n",
       "Beef burger                                105\n",
       "                                         ...  \n",
       "Tomato, basil and mozzarella sandwich        0\n",
       "Vegetarian chili and polenta cake          848\n",
       "Vegetarian entree                         2699\n",
       "Zatar chicken                            63307\n",
       "Zatar chicken entree                         1\n",
       "Name: consumed_entree_count, Length: 102, dtype: int64"
      ]
     },
     "execution_count": 5,
     "metadata": {},
     "output_type": "execute_result"
    }
   ],
   "source": [
    "consumed_entree = inflightservice_inventory.groupby(\"entree_description\")[\"consumed_entree_count\"].sum()\n",
    "consumed_entree"
   ]
  },
  {
   "cell_type": "code",
   "execution_count": 6,
   "metadata": {
    "colab": {
     "base_uri": "https://localhost:8080/",
     "height": 447
    },
    "id": "2kuLf0rY-yfj",
    "outputId": "377212e3-b944-4563-aafe-5948386ce699"
   },
   "outputs": [
    {
     "data": {
      "text/plain": [
       "<AxesSubplot:ylabel='Frequency'>"
      ]
     },
     "execution_count": 6,
     "metadata": {},
     "output_type": "execute_result"
    },
    {
     "data": {
      "image/png": "[encoded data removed]",
      "text/plain": [
       "<Figure size 432x288 with 1 Axes>"
      ]
     },
     "metadata": {
      "needs_background": "light"
     },
     "output_type": "display_data"
    }
   ],
   "source": [
    "planned_entree.plot(kind=\"hist\")"
   ]
  },
  {
   "cell_type": "code",
   "execution_count": 7,
   "metadata": {
    "colab": {
     "base_uri": "https://localhost:8080/",
     "height": 447
    },
    "id": "FfJhzbj5CDz0",
    "outputId": "33fb8546-9284-49d3-cbd4-47f38bebc34b"
   },
   "outputs": [
    {
     "data": {
      "text/plain": [
       "<AxesSubplot:ylabel='Frequency'>"
      ]
     },
     "execution_count": 7,
     "metadata": {},
     "output_type": "execute_result"
    },
    {
     "data": {
      "image/png": "[encoded data removed]",
      "text/plain": [
       "<Figure size 432x288 with 1 Axes>"
      ]
     },
     "metadata": {
      "needs_background": "light"
     },
     "output_type": "display_data"
    }
   ],
   "source": [
    "consumed_entree.plot(kind=\"hist\")"
   ]
  },
  {
   "cell_type": "code",
   "execution_count": 8,
   "metadata": {
    "colab": {
     "base_uri": "https://localhost:8080/"
    },
    "id": "gsJ63bvi8v50",
    "outputId": "cf07160a-34a1-4153-929d-70dc79c7d9c9"
   },
   "outputs": [
    {
     "data": {
      "text/plain": [
       "(61267, 9)"
      ]
     },
     "execution_count": 8,
     "metadata": {},
     "output_type": "execute_result"
    }
   ],
   "source": [
    "inflightservice_inventory.shape"
   ]
  },
  {
   "cell_type": "code",
   "execution_count": 9,
   "metadata": {
    "colab": {
     "base_uri": "https://localhost:8080/"
    },
    "id": "pAuCaONR4e3g",
    "outputId": "35128d41-6b96-43cd-bf9e-ec687c6b002b"
   },
   "outputs": [
    {
     "data": {
      "text/plain": [
       "flight_number              0\n",
       "departure_station_code     0\n",
       "arrival_station_code       0\n",
       "scheduled_departure_dtl    0\n",
       "entree_product_id          0\n",
       "entree_description         0\n",
       "entree_code                0\n",
       "planned_entree_count       0\n",
       "consumed_entree_count      0\n",
       "dtype: int64"
      ]
     },
     "execution_count": 9,
     "metadata": {},
     "output_type": "execute_result"
    }
   ],
   "source": [
    "inflightservice_inventory.isnull().sum()"
   ]
  },
  {
   "cell_type": "code",
   "execution_count": 10,
   "metadata": {
    "colab": {
     "base_uri": "https://localhost:8080/"
    },
    "id": "ItR01gli5dyp",
    "outputId": "ce4b6009-4192-4161-8093-bff43f54c0f2"
   },
   "outputs": [
    {
     "name": "stdout",
     "output_type": "stream",
     "text": [
      "<class 'pandas.core.frame.DataFrame'>\n",
      "RangeIndex: 61267 entries, 0 to 61266\n",
      "Data columns (total 9 columns):\n",
      " #   Column                   Non-Null Count  Dtype \n",
      "---  ------                   --------------  ----- \n",
      " 0   flight_number            61267 non-null  int64 \n",
      " 1   departure_station_code   61267 non-null  object\n",
      " 2   arrival_station_code     61267 non-null  object\n",
      " 3   scheduled_departure_dtl  61267 non-null  object\n",
      " 4   entree_product_id        61267 non-null  int64 \n",
      " 5   entree_description       61267 non-null  object\n",
      " 6   entree_code              61267 non-null  object\n",
      " 7   planned_entree_count     61267 non-null  int64 \n",
      " 8   consumed_entree_count    61267 non-null  int64 \n",
      "dtypes: int64(4), object(5)\n",
      "memory usage: 4.2+ MB\n"
     ]
    }
   ],
   "source": [
    "inflightservice_inventory.info()"
   ]
  },
  {
   "cell_type": "code",
   "execution_count": 11,
   "metadata": {
    "colab": {
     "base_uri": "https://localhost:8080/"
    },
    "id": "AocM8Oc85whQ",
    "outputId": "43e8b17a-5a74-4dc6-c1e4-1f5f2b3a5d3f"
   },
   "outputs": [
    {
     "data": {
      "text/plain": [
       "0"
      ]
     },
     "execution_count": 11,
     "metadata": {},
     "output_type": "execute_result"
    }
   ],
   "source": [
    "inflightservice_inventory.duplicated().sum()"
   ]
  },
  {
   "cell_type": "code",
   "execution_count": 12,
   "metadata": {
    "colab": {
     "base_uri": "https://localhost:8080/",
     "height": 423
    },
    "id": "--FoqjWc56Nk",
    "outputId": "8e55b37a-17bf-4fcf-9289-2eacb693737d"
   },
   "outputs": [
    {
     "data": {
      "text/plain": [
       "<AxesSubplot:ylabel='count'>"
      ]
     },
     "execution_count": 12,
     "metadata": {},
     "output_type": "execute_result"
    },
    {
     "data": {
      "image/png": "[encoded data removed]",
      "text/plain": [
       "<Figure size 432x288 with 1 Axes>"
      ]
     },
     "metadata": {},
     "output_type": "display_data"
    }
   ],
   "source": [
    "inflightservice_inventory[\"entree_description\"].value_counts().plot(kind=\"pie\",autopct='%0.1f%%')"
   ]
  },
  {
   "cell_type": "code",
   "execution_count": 13,
   "metadata": {
    "colab": {
     "base_uri": "https://localhost:8080/",
     "height": 300
    },
    "id": "LAkn8I328hAc",
    "outputId": "95ba60f0-12c6-4cf9-95e9-d5f11e2ba14e"
   },
   "outputs": [
    {
     "data": {
      "text/html": [
       "<div>\n",
       "<style scoped>\n",
       "    .dataframe tbody tr th:only-of-type {\n",
       "        vertical-align: middle;\n",
       "    }\n",
       "\n",
       "    .dataframe tbody tr th {\n",
       "        vertical-align: top;\n",
       "    }\n",
       "\n",
       "    .dataframe thead th {\n",
       "        text-align: right;\n",
       "    }\n",
       "</style>\n",
       "<table border=\"1\" class=\"dataframe\">\n",
       "  <thead>\n",
       "    <tr style=\"text-align: right;\">\n",
       "      <th></th>\n",
       "      <th>flight_number</th>\n",
       "      <th>entree_product_id</th>\n",
       "      <th>planned_entree_count</th>\n",
       "      <th>consumed_entree_count</th>\n",
       "    </tr>\n",
       "  </thead>\n",
       "  <tbody>\n",
       "    <tr>\n",
       "      <th>count</th>\n",
       "      <td>61267.000000</td>\n",
       "      <td>61267.000000</td>\n",
       "      <td>61267.000000</td>\n",
       "      <td>61267.000000</td>\n",
       "    </tr>\n",
       "    <tr>\n",
       "      <th>mean</th>\n",
       "      <td>1528.316500</td>\n",
       "      <td>59595.351772</td>\n",
       "      <td>7.355248</td>\n",
       "      <td>3.155712</td>\n",
       "    </tr>\n",
       "    <tr>\n",
       "      <th>std</th>\n",
       "      <td>868.897413</td>\n",
       "      <td>3506.018657</td>\n",
       "      <td>6.738823</td>\n",
       "      <td>4.664430</td>\n",
       "    </tr>\n",
       "    <tr>\n",
       "      <th>min</th>\n",
       "      <td>23.000000</td>\n",
       "      <td>15533.000000</td>\n",
       "      <td>0.000000</td>\n",
       "      <td>-7.000000</td>\n",
       "    </tr>\n",
       "    <tr>\n",
       "      <th>25%</th>\n",
       "      <td>763.000000</td>\n",
       "      <td>58563.000000</td>\n",
       "      <td>3.000000</td>\n",
       "      <td>0.000000</td>\n",
       "    </tr>\n",
       "    <tr>\n",
       "      <th>50%</th>\n",
       "      <td>1579.000000</td>\n",
       "      <td>60983.000000</td>\n",
       "      <td>6.000000</td>\n",
       "      <td>1.000000</td>\n",
       "    </tr>\n",
       "    <tr>\n",
       "      <th>75%</th>\n",
       "      <td>2123.000000</td>\n",
       "      <td>60987.000000</td>\n",
       "      <td>10.000000</td>\n",
       "      <td>5.000000</td>\n",
       "    </tr>\n",
       "    <tr>\n",
       "      <th>max</th>\n",
       "      <td>6376.000000</td>\n",
       "      <td>62024.000000</td>\n",
       "      <td>193.000000</td>\n",
       "      <td>100.000000</td>\n",
       "    </tr>\n",
       "  </tbody>\n",
       "</table>\n",
       "</div>"
      ],
      "text/plain": [
       "       flight_number  entree_product_id  planned_entree_count  \\\n",
       "count   61267.000000       61267.000000          61267.000000   \n",
       "mean     1528.316500       59595.351772              7.355248   \n",
       "std       868.897413        3506.018657              6.738823   \n",
       "min        23.000000       15533.000000              0.000000   \n",
       "25%       763.000000       58563.000000              3.000000   \n",
       "50%      1579.000000       60983.000000              6.000000   \n",
       "75%      2123.000000       60987.000000             10.000000   \n",
       "max      6376.000000       62024.000000            193.000000   \n",
       "\n",
       "       consumed_entree_count  \n",
       "count           61267.000000  \n",
       "mean                3.155712  \n",
       "std                 4.664430  \n",
       "min                -7.000000  \n",
       "25%                 0.000000  \n",
       "50%                 1.000000  \n",
       "75%                 5.000000  \n",
       "max               100.000000  "
      ]
     },
     "execution_count": 13,
     "metadata": {},
     "output_type": "execute_result"
    }
   ],
   "source": [
    "inflightservice_inventory.describe()"
   ]
  },
  {
   "cell_type": "code",
   "execution_count": 14,
   "metadata": {
    "colab": {
     "base_uri": "https://localhost:8080/",
     "height": 516
    },
    "id": "DBSLFLQ79ZPQ",
    "outputId": "3c9897e4-b9f8-453c-e31c-6f335bdec74c"
   },
   "outputs": [
    {
     "data": {
      "text/html": [
       "<div>\n",
       "<style scoped>\n",
       "    .dataframe tbody tr th:only-of-type {\n",
       "        vertical-align: middle;\n",
       "    }\n",
       "\n",
       "    .dataframe tbody tr th {\n",
       "        vertical-align: top;\n",
       "    }\n",
       "\n",
       "    .dataframe thead th {\n",
       "        text-align: right;\n",
       "    }\n",
       "</style>\n",
       "<table border=\"1\" class=\"dataframe\">\n",
       "  <thead>\n",
       "    <tr style=\"text-align: right;\">\n",
       "      <th></th>\n",
       "      <th>flight_number</th>\n",
       "      <th>origin_station_code</th>\n",
       "      <th>destination_station_code</th>\n",
       "      <th>record_locator</th>\n",
       "      <th>scheduled_departure_date</th>\n",
       "      <th>question_text</th>\n",
       "      <th>score</th>\n",
       "      <th>satisfaction_type</th>\n",
       "      <th>driver_sub_group1</th>\n",
       "      <th>driver_sub_group2</th>\n",
       "      <th>...</th>\n",
       "      <th>equipment_type_code</th>\n",
       "      <th>ua_uax</th>\n",
       "      <th>actual_flown_miles</th>\n",
       "      <th>haul_type</th>\n",
       "      <th>departure_gate</th>\n",
       "      <th>arrival_gate</th>\n",
       "      <th>international_domestic_indicator</th>\n",
       "      <th>response_group</th>\n",
       "      <th>media_provider</th>\n",
       "      <th>hub_spoke</th>\n",
       "    </tr>\n",
       "  </thead>\n",
       "  <tbody>\n",
       "    <tr>\n",
       "      <th>0</th>\n",
       "      <td>3802</td>\n",
       "      <td>MKX</td>\n",
       "      <td>ORX</td>\n",
       "      <td>CYXXJJ</td>\n",
       "      <td>9/1/2022</td>\n",
       "      <td>How satisfied were you with the food &amp; beverag...</td>\n",
       "      <td>2</td>\n",
       "      <td>Dissatisfied</td>\n",
       "      <td>food &amp; beverage</td>\n",
       "      <td>food and beverage satisfaction</td>\n",
       "      <td>...</td>\n",
       "      <td>CRZ</td>\n",
       "      <td>UAX</td>\n",
       "      <td>67</td>\n",
       "      <td>Short</td>\n",
       "      <td>C12</td>\n",
       "      <td>F10</td>\n",
       "      <td>Domestic</td>\n",
       "      <td>non-member</td>\n",
       "      <td>NaN</td>\n",
       "      <td>spoke departure</td>\n",
       "    </tr>\n",
       "    <tr>\n",
       "      <th>1</th>\n",
       "      <td>4645</td>\n",
       "      <td>COX</td>\n",
       "      <td>DEX</td>\n",
       "      <td>DRXXMH</td>\n",
       "      <td>9/1/2022</td>\n",
       "      <td>How satisfied were you with the food &amp; beverag...</td>\n",
       "      <td>5</td>\n",
       "      <td>Satisfied</td>\n",
       "      <td>food &amp; beverage</td>\n",
       "      <td>food and beverage satisfaction</td>\n",
       "      <td>...</td>\n",
       "      <td>E75</td>\n",
       "      <td>UAX</td>\n",
       "      <td>72</td>\n",
       "      <td>Short</td>\n",
       "      <td>5</td>\n",
       "      <td>B60</td>\n",
       "      <td>Domestic</td>\n",
       "      <td>member</td>\n",
       "      <td>GOGO</td>\n",
       "      <td>spoke departure</td>\n",
       "    </tr>\n",
       "    <tr>\n",
       "      <th>2</th>\n",
       "      <td>5236</td>\n",
       "      <td>COX</td>\n",
       "      <td>DEX</td>\n",
       "      <td>DEXXS1</td>\n",
       "      <td>9/1/2022</td>\n",
       "      <td>How satisfied were you with the food &amp; beverag...</td>\n",
       "      <td>5</td>\n",
       "      <td>Satisfied</td>\n",
       "      <td>food &amp; beverage</td>\n",
       "      <td>food and beverage satisfaction</td>\n",
       "      <td>...</td>\n",
       "      <td>E75</td>\n",
       "      <td>UAX</td>\n",
       "      <td>72</td>\n",
       "      <td>Short</td>\n",
       "      <td>7</td>\n",
       "      <td>A71</td>\n",
       "      <td>Domestic</td>\n",
       "      <td>member</td>\n",
       "      <td>GOGO</td>\n",
       "      <td>spoke departure</td>\n",
       "    </tr>\n",
       "    <tr>\n",
       "      <th>3</th>\n",
       "      <td>4686</td>\n",
       "      <td>DEX</td>\n",
       "      <td>COX</td>\n",
       "      <td>PXXXLH</td>\n",
       "      <td>9/1/2022</td>\n",
       "      <td>How satisfied were you with the food &amp; beverag...</td>\n",
       "      <td>3</td>\n",
       "      <td>Dissatisfied</td>\n",
       "      <td>food &amp; beverage</td>\n",
       "      <td>food and beverage satisfaction</td>\n",
       "      <td>...</td>\n",
       "      <td>CRJ</td>\n",
       "      <td>UAX</td>\n",
       "      <td>72</td>\n",
       "      <td>Short</td>\n",
       "      <td>B82</td>\n",
       "      <td>5</td>\n",
       "      <td>Domestic</td>\n",
       "      <td>member</td>\n",
       "      <td>NaN</td>\n",
       "      <td>hub departure</td>\n",
       "    </tr>\n",
       "    <tr>\n",
       "      <th>4</th>\n",
       "      <td>671</td>\n",
       "      <td>DEX</td>\n",
       "      <td>COX</td>\n",
       "      <td>KZXXH5</td>\n",
       "      <td>9/1/2022</td>\n",
       "      <td>How satisfied were you with the food &amp; beverag...</td>\n",
       "      <td>5</td>\n",
       "      <td>Satisfied</td>\n",
       "      <td>food &amp; beverage</td>\n",
       "      <td>food and beverage satisfaction</td>\n",
       "      <td>...</td>\n",
       "      <td>19F</td>\n",
       "      <td>UA</td>\n",
       "      <td>72</td>\n",
       "      <td>Short</td>\n",
       "      <td>B24</td>\n",
       "      <td>3</td>\n",
       "      <td>Domestic</td>\n",
       "      <td>member</td>\n",
       "      <td>PANASONIC</td>\n",
       "      <td>hub departure</td>\n",
       "    </tr>\n",
       "  </tbody>\n",
       "</table>\n",
       "<p>5 rows × 31 columns</p>\n",
       "</div>"
      ],
      "text/plain": [
       "   flight_number origin_station_code destination_station_code record_locator  \\\n",
       "0           3802                 MKX                      ORX         CYXXJJ   \n",
       "1           4645                 COX                      DEX         DRXXMH   \n",
       "2           5236                 COX                      DEX         DEXXS1   \n",
       "3           4686                 DEX                      COX         PXXXLH   \n",
       "4            671                 DEX                      COX         KZXXH5   \n",
       "\n",
       "  scheduled_departure_date                                      question_text  \\\n",
       "0                 9/1/2022  How satisfied were you with the food & beverag...   \n",
       "1                 9/1/2022  How satisfied were you with the food & beverag...   \n",
       "2                 9/1/2022  How satisfied were you with the food & beverag...   \n",
       "3                 9/1/2022  How satisfied were you with the food & beverag...   \n",
       "4                 9/1/2022  How satisfied were you with the food & beverag...   \n",
       "\n",
       "  score satisfaction_type driver_sub_group1               driver_sub_group2  \\\n",
       "0     2      Dissatisfied   food & beverage  food and beverage satisfaction   \n",
       "1     5         Satisfied   food & beverage  food and beverage satisfaction   \n",
       "2     5         Satisfied   food & beverage  food and beverage satisfaction   \n",
       "3     3      Dissatisfied   food & beverage  food and beverage satisfaction   \n",
       "4     5         Satisfied   food & beverage  food and beverage satisfaction   \n",
       "\n",
       "   ...  equipment_type_code ua_uax actual_flown_miles haul_type  \\\n",
       "0  ...                  CRZ    UAX                 67     Short   \n",
       "1  ...                  E75    UAX                 72     Short   \n",
       "2  ...                  E75    UAX                 72     Short   \n",
       "3  ...                  CRJ    UAX                 72     Short   \n",
       "4  ...                  19F     UA                 72     Short   \n",
       "\n",
       "  departure_gate  arrival_gate international_domestic_indicator  \\\n",
       "0            C12           F10                         Domestic   \n",
       "1              5           B60                         Domestic   \n",
       "2              7           A71                         Domestic   \n",
       "3            B82             5                         Domestic   \n",
       "4            B24             3                         Domestic   \n",
       "\n",
       "  response_group media_provider        hub_spoke  \n",
       "0     non-member            NaN  spoke departure  \n",
       "1         member           GOGO  spoke departure  \n",
       "2         member           GOGO  spoke departure  \n",
       "3         member            NaN    hub departure  \n",
       "4         member      PANASONIC    hub departure  \n",
       "\n",
       "[5 rows x 31 columns]"
      ]
     },
     "execution_count": 14,
     "metadata": {},
     "output_type": "execute_result"
    }
   ],
   "source": [
    "surverydata_inflightsatisfaction.head()"
   ]
  },
  {
   "cell_type": "code",
   "execution_count": 15,
   "metadata": {
    "id": "dbEMVeiJO5jK"
   },
   "outputs": [],
   "source": [
    "flightsatisfaction = surverydata_inflightsatisfaction[[\"flight_number\",\"scheduled_departure_date\",\"question_text\",\"score\",\"satisfaction_type\"]]"
   ]
  },
  {
   "cell_type": "code",
   "execution_count": 16,
   "metadata": {
    "colab": {
     "base_uri": "https://localhost:8080/",
     "height": 206
    },
    "id": "AFucaMLbPhwV",
    "outputId": "0e1ae234-29c3-4695-9521-4311a38cfbb2"
   },
   "outputs": [
    {
     "data": {
      "text/html": [
       "<div>\n",
       "<style scoped>\n",
       "    .dataframe tbody tr th:only-of-type {\n",
       "        vertical-align: middle;\n",
       "    }\n",
       "\n",
       "    .dataframe tbody tr th {\n",
       "        vertical-align: top;\n",
       "    }\n",
       "\n",
       "    .dataframe thead th {\n",
       "        text-align: right;\n",
       "    }\n",
       "</style>\n",
       "<table border=\"1\" class=\"dataframe\">\n",
       "  <thead>\n",
       "    <tr style=\"text-align: right;\">\n",
       "      <th></th>\n",
       "      <th>flight_number</th>\n",
       "      <th>scheduled_departure_date</th>\n",
       "      <th>question_text</th>\n",
       "      <th>score</th>\n",
       "      <th>satisfaction_type</th>\n",
       "    </tr>\n",
       "  </thead>\n",
       "  <tbody>\n",
       "    <tr>\n",
       "      <th>0</th>\n",
       "      <td>3802</td>\n",
       "      <td>9/1/2022</td>\n",
       "      <td>How satisfied were you with the food &amp; beverag...</td>\n",
       "      <td>2</td>\n",
       "      <td>Dissatisfied</td>\n",
       "    </tr>\n",
       "    <tr>\n",
       "      <th>1</th>\n",
       "      <td>4645</td>\n",
       "      <td>9/1/2022</td>\n",
       "      <td>How satisfied were you with the food &amp; beverag...</td>\n",
       "      <td>5</td>\n",
       "      <td>Satisfied</td>\n",
       "    </tr>\n",
       "    <tr>\n",
       "      <th>2</th>\n",
       "      <td>5236</td>\n",
       "      <td>9/1/2022</td>\n",
       "      <td>How satisfied were you with the food &amp; beverag...</td>\n",
       "      <td>5</td>\n",
       "      <td>Satisfied</td>\n",
       "    </tr>\n",
       "    <tr>\n",
       "      <th>3</th>\n",
       "      <td>4686</td>\n",
       "      <td>9/1/2022</td>\n",
       "      <td>How satisfied were you with the food &amp; beverag...</td>\n",
       "      <td>3</td>\n",
       "      <td>Dissatisfied</td>\n",
       "    </tr>\n",
       "    <tr>\n",
       "      <th>4</th>\n",
       "      <td>671</td>\n",
       "      <td>9/1/2022</td>\n",
       "      <td>How satisfied were you with the food &amp; beverag...</td>\n",
       "      <td>5</td>\n",
       "      <td>Satisfied</td>\n",
       "    </tr>\n",
       "  </tbody>\n",
       "</table>\n",
       "</div>"
      ],
      "text/plain": [
       "   flight_number scheduled_departure_date  \\\n",
       "0           3802                 9/1/2022   \n",
       "1           4645                 9/1/2022   \n",
       "2           5236                 9/1/2022   \n",
       "3           4686                 9/1/2022   \n",
       "4            671                 9/1/2022   \n",
       "\n",
       "                                       question_text score satisfaction_type  \n",
       "0  How satisfied were you with the food & beverag...     2      Dissatisfied  \n",
       "1  How satisfied were you with the food & beverag...     5         Satisfied  \n",
       "2  How satisfied were you with the food & beverag...     5         Satisfied  \n",
       "3  How satisfied were you with the food & beverag...     3      Dissatisfied  \n",
       "4  How satisfied were you with the food & beverag...     5         Satisfied  "
      ]
     },
     "execution_count": 16,
     "metadata": {},
     "output_type": "execute_result"
    }
   ],
   "source": [
    "flightsatisfaction.head()"
   ]
  },
  {
   "cell_type": "code",
   "execution_count": 17,
   "metadata": {
    "colab": {
     "base_uri": "https://localhost:8080/"
    },
    "id": "5ALwqI1-QcpZ",
    "outputId": "1adaa237-d634-4f90-cb12-a1282655b723"
   },
   "outputs": [
    {
     "data": {
      "text/plain": [
       "flight_number                       0\n",
       "origin_station_code                 0\n",
       "destination_station_code            0\n",
       "record_locator                      0\n",
       "scheduled_departure_date            0\n",
       "question_text                       0\n",
       "score                               0\n",
       "satisfaction_type                   0\n",
       "driver_sub_group1                   0\n",
       "driver_sub_group2                   0\n",
       "arrival_delay_minutes               0\n",
       "arrival_delay_group                 0\n",
       "cabin_code_desc                     0\n",
       "cabin_name                          3\n",
       "entity                              0\n",
       "number_of_legs                      0\n",
       "seat_factor_band                    0\n",
       "loyalty_program_level               1\n",
       "generation                          0\n",
       "fleet_type_description              0\n",
       "fleet_usage                         0\n",
       "equipment_type_code                 0\n",
       "ua_uax                              0\n",
       "actual_flown_miles                  0\n",
       "haul_type                           0\n",
       "departure_gate                      0\n",
       "arrival_gate                        0\n",
       "international_domestic_indicator    0\n",
       "response_group                      0\n",
       "media_provider                      2\n",
       "hub_spoke                           0\n",
       "dtype: int64"
      ]
     },
     "execution_count": 17,
     "metadata": {},
     "output_type": "execute_result"
    }
   ],
   "source": [
    "surverydata_inflightsatisfaction.head().isnull().sum()"
   ]
  },
  {
   "cell_type": "code",
   "execution_count": 18,
   "metadata": {
    "colab": {
     "base_uri": "https://localhost:8080/",
     "height": 300
    },
    "id": "dpuRGXd_QzCG",
    "outputId": "ca00f402-a94a-48f3-a233-e7efe4f9081c"
   },
   "outputs": [
    {
     "data": {
      "text/html": [
       "<div>\n",
       "<style scoped>\n",
       "    .dataframe tbody tr th:only-of-type {\n",
       "        vertical-align: middle;\n",
       "    }\n",
       "\n",
       "    .dataframe tbody tr th {\n",
       "        vertical-align: top;\n",
       "    }\n",
       "\n",
       "    .dataframe thead th {\n",
       "        text-align: right;\n",
       "    }\n",
       "</style>\n",
       "<table border=\"1\" class=\"dataframe\">\n",
       "  <thead>\n",
       "    <tr style=\"text-align: right;\">\n",
       "      <th></th>\n",
       "      <th>flight_number</th>\n",
       "      <th>arrival_delay_minutes</th>\n",
       "      <th>number_of_legs</th>\n",
       "      <th>actual_flown_miles</th>\n",
       "    </tr>\n",
       "  </thead>\n",
       "  <tbody>\n",
       "    <tr>\n",
       "      <th>count</th>\n",
       "      <td>47074.000000</td>\n",
       "      <td>47074.000000</td>\n",
       "      <td>47074.000000</td>\n",
       "      <td>47074.000000</td>\n",
       "    </tr>\n",
       "    <tr>\n",
       "      <th>mean</th>\n",
       "      <td>1529.855207</td>\n",
       "      <td>-1.702490</td>\n",
       "      <td>1.344118</td>\n",
       "      <td>2477.737732</td>\n",
       "    </tr>\n",
       "    <tr>\n",
       "      <th>std</th>\n",
       "      <td>1456.712299</td>\n",
       "      <td>37.868177</td>\n",
       "      <td>0.502424</td>\n",
       "      <td>1865.646538</td>\n",
       "    </tr>\n",
       "    <tr>\n",
       "      <th>min</th>\n",
       "      <td>2.000000</td>\n",
       "      <td>-104.000000</td>\n",
       "      <td>1.000000</td>\n",
       "      <td>45.000000</td>\n",
       "    </tr>\n",
       "    <tr>\n",
       "      <th>25%</th>\n",
       "      <td>477.000000</td>\n",
       "      <td>-19.000000</td>\n",
       "      <td>1.000000</td>\n",
       "      <td>932.000000</td>\n",
       "    </tr>\n",
       "    <tr>\n",
       "      <th>50%</th>\n",
       "      <td>1050.000000</td>\n",
       "      <td>-9.000000</td>\n",
       "      <td>1.000000</td>\n",
       "      <td>1846.000000</td>\n",
       "    </tr>\n",
       "    <tr>\n",
       "      <th>75%</th>\n",
       "      <td>2060.000000</td>\n",
       "      <td>4.000000</td>\n",
       "      <td>2.000000</td>\n",
       "      <td>3870.000000</td>\n",
       "    </tr>\n",
       "    <tr>\n",
       "      <th>max</th>\n",
       "      <td>6376.000000</td>\n",
       "      <td>907.000000</td>\n",
       "      <td>3.000000</td>\n",
       "      <td>8440.000000</td>\n",
       "    </tr>\n",
       "  </tbody>\n",
       "</table>\n",
       "</div>"
      ],
      "text/plain": [
       "       flight_number  arrival_delay_minutes  number_of_legs  \\\n",
       "count   47074.000000           47074.000000    47074.000000   \n",
       "mean     1529.855207              -1.702490        1.344118   \n",
       "std      1456.712299              37.868177        0.502424   \n",
       "min         2.000000            -104.000000        1.000000   \n",
       "25%       477.000000             -19.000000        1.000000   \n",
       "50%      1050.000000              -9.000000        1.000000   \n",
       "75%      2060.000000               4.000000        2.000000   \n",
       "max      6376.000000             907.000000        3.000000   \n",
       "\n",
       "       actual_flown_miles  \n",
       "count        47074.000000  \n",
       "mean          2477.737732  \n",
       "std           1865.646538  \n",
       "min             45.000000  \n",
       "25%            932.000000  \n",
       "50%           1846.000000  \n",
       "75%           3870.000000  \n",
       "max           8440.000000  "
      ]
     },
     "execution_count": 18,
     "metadata": {},
     "output_type": "execute_result"
    }
   ],
   "source": [
    "surverydata_inflightsatisfaction.describe()"
   ]
  },
  {
   "cell_type": "code",
   "execution_count": 19,
   "metadata": {
    "id": "6DovFAwJTeH0"
   },
   "outputs": [],
   "source": [
    "# % Inflight Satisfaction = Satisfied Sample/Total Sample*100\n",
    "satisfiedsample = flightsatisfaction[(flightsatisfaction[\"score\"] <= \"5\") & (flightsatisfaction[\"score\"] >= \"4\")]"
   ]
  },
  {
   "cell_type": "code",
   "execution_count": 20,
   "metadata": {
    "id": "zdnScd3SUMl4"
   },
   "outputs": [],
   "source": [
    "Satisfiedsample = satisfiedsample.shape[0]"
   ]
  },
  {
   "cell_type": "code",
   "execution_count": 21,
   "metadata": {
    "id": "cJJWV7RaUPVG"
   },
   "outputs": [],
   "source": [
    "Totalsample = flightsatisfaction.shape[0]"
   ]
  },
  {
   "cell_type": "code",
   "execution_count": 22,
   "metadata": {
    "id": "BfNO6UbEU12W"
   },
   "outputs": [],
   "source": [
    "flight = (Satisfiedsample/Totalsample)*100"
   ]
  },
  {
   "cell_type": "code",
   "execution_count": 23,
   "metadata": {
    "colab": {
     "base_uri": "https://localhost:8080/"
    },
    "id": "7i4pZWaMVFn2",
    "outputId": "d1233539-fcfd-4dc6-89a5-29b5de0a4ed7"
   },
   "outputs": [
    {
     "data": {
      "text/plain": [
       "26.787610995453964"
      ]
     },
     "execution_count": 23,
     "metadata": {},
     "output_type": "execute_result"
    }
   ],
   "source": [
    "flight"
   ]
  },
  {
   "cell_type": "code",
   "execution_count": 24,
   "metadata": {
    "colab": {
     "base_uri": "https://localhost:8080/"
    },
    "id": "ARubb5ztWH29",
    "outputId": "09796831-0481-445c-a1f3-9a1f9c0d26b9"
   },
   "outputs": [
    {
     "name": "stderr",
     "output_type": "stream",
     "text": [
      "C:\\Users\\DELL\\AppData\\Local\\Temp\\ipykernel_6824\\2760123822.py:1: SettingWithCopyWarning: \n",
      "A value is trying to be set on a copy of a slice from a DataFrame.\n",
      "Try using .loc[row_indexer,col_indexer] = value instead\n",
      "\n",
      "See the caveats in the documentation: https://pandas.pydata.org/pandas-docs/stable/user_guide/indexing.html#returning-a-view-versus-a-copy\n",
      "  flightsatisfaction[\"scheduled_departure_date\"] = pd.to_datetime(flightsatisfaction[\"scheduled_departure_date\"])\n"
     ]
    }
   ],
   "source": [
    "flightsatisfaction[\"scheduled_departure_date\"] = pd.to_datetime(flightsatisfaction[\"scheduled_departure_date\"])"
   ]
  },
  {
   "cell_type": "code",
   "execution_count": 25,
   "metadata": {
    "colab": {
     "base_uri": "https://localhost:8080/",
     "height": 206
    },
    "id": "_CxMGm3lg9eb",
    "outputId": "c5f0a393-0954-411f-c870-9b89d4c146d4"
   },
   "outputs": [
    {
     "data": {
      "text/html": [
       "<div>\n",
       "<style scoped>\n",
       "    .dataframe tbody tr th:only-of-type {\n",
       "        vertical-align: middle;\n",
       "    }\n",
       "\n",
       "    .dataframe tbody tr th {\n",
       "        vertical-align: top;\n",
       "    }\n",
       "\n",
       "    .dataframe thead th {\n",
       "        text-align: right;\n",
       "    }\n",
       "</style>\n",
       "<table border=\"1\" class=\"dataframe\">\n",
       "  <thead>\n",
       "    <tr style=\"text-align: right;\">\n",
       "      <th></th>\n",
       "      <th>flight_number</th>\n",
       "      <th>scheduled_departure_date</th>\n",
       "      <th>question_text</th>\n",
       "      <th>score</th>\n",
       "      <th>satisfaction_type</th>\n",
       "    </tr>\n",
       "  </thead>\n",
       "  <tbody>\n",
       "    <tr>\n",
       "      <th>0</th>\n",
       "      <td>3802</td>\n",
       "      <td>2022-09-01</td>\n",
       "      <td>How satisfied were you with the food &amp; beverag...</td>\n",
       "      <td>2</td>\n",
       "      <td>Dissatisfied</td>\n",
       "    </tr>\n",
       "    <tr>\n",
       "      <th>1</th>\n",
       "      <td>4645</td>\n",
       "      <td>2022-09-01</td>\n",
       "      <td>How satisfied were you with the food &amp; beverag...</td>\n",
       "      <td>5</td>\n",
       "      <td>Satisfied</td>\n",
       "    </tr>\n",
       "    <tr>\n",
       "      <th>2</th>\n",
       "      <td>5236</td>\n",
       "      <td>2022-09-01</td>\n",
       "      <td>How satisfied were you with the food &amp; beverag...</td>\n",
       "      <td>5</td>\n",
       "      <td>Satisfied</td>\n",
       "    </tr>\n",
       "    <tr>\n",
       "      <th>3</th>\n",
       "      <td>4686</td>\n",
       "      <td>2022-09-01</td>\n",
       "      <td>How satisfied were you with the food &amp; beverag...</td>\n",
       "      <td>3</td>\n",
       "      <td>Dissatisfied</td>\n",
       "    </tr>\n",
       "    <tr>\n",
       "      <th>4</th>\n",
       "      <td>671</td>\n",
       "      <td>2022-09-01</td>\n",
       "      <td>How satisfied were you with the food &amp; beverag...</td>\n",
       "      <td>5</td>\n",
       "      <td>Satisfied</td>\n",
       "    </tr>\n",
       "  </tbody>\n",
       "</table>\n",
       "</div>"
      ],
      "text/plain": [
       "   flight_number scheduled_departure_date  \\\n",
       "0           3802               2022-09-01   \n",
       "1           4645               2022-09-01   \n",
       "2           5236               2022-09-01   \n",
       "3           4686               2022-09-01   \n",
       "4            671               2022-09-01   \n",
       "\n",
       "                                       question_text score satisfaction_type  \n",
       "0  How satisfied were you with the food & beverag...     2      Dissatisfied  \n",
       "1  How satisfied were you with the food & beverag...     5         Satisfied  \n",
       "2  How satisfied were you with the food & beverag...     5         Satisfied  \n",
       "3  How satisfied were you with the food & beverag...     3      Dissatisfied  \n",
       "4  How satisfied were you with the food & beverag...     5         Satisfied  "
      ]
     },
     "execution_count": 25,
     "metadata": {},
     "output_type": "execute_result"
    }
   ],
   "source": [
    "flightsatisfaction.head()"
   ]
  },
  {
   "cell_type": "code",
   "execution_count": 26,
   "metadata": {
    "colab": {
     "base_uri": "https://localhost:8080/"
    },
    "id": "NELoC4UfhxTm",
    "outputId": "6e7b8f07-9810-4464-aeba-23660e770406"
   },
   "outputs": [
    {
     "name": "stderr",
     "output_type": "stream",
     "text": [
      "C:\\Users\\DELL\\AppData\\Local\\Temp\\ipykernel_6824\\3480111199.py:1: SettingWithCopyWarning: \n",
      "A value is trying to be set on a copy of a slice from a DataFrame.\n",
      "Try using .loc[row_indexer,col_indexer] = value instead\n",
      "\n",
      "See the caveats in the documentation: https://pandas.pydata.org/pandas-docs/stable/user_guide/indexing.html#returning-a-view-versus-a-copy\n",
      "  flightsatisfaction[\"Month\"] = flightsatisfaction[\"scheduled_departure_date\"].dt.month\n"
     ]
    }
   ],
   "source": [
    "flightsatisfaction[\"Month\"] = flightsatisfaction[\"scheduled_departure_date\"].dt.month"
   ]
  },
  {
   "cell_type": "code",
   "execution_count": 27,
   "metadata": {
    "colab": {
     "base_uri": "https://localhost:8080/",
     "height": 206
    },
    "id": "aQnskbGVj7fo",
    "outputId": "deeb35bc-699a-49de-8358-35f0b56554a6"
   },
   "outputs": [
    {
     "data": {
      "text/html": [
       "<div>\n",
       "<style scoped>\n",
       "    .dataframe tbody tr th:only-of-type {\n",
       "        vertical-align: middle;\n",
       "    }\n",
       "\n",
       "    .dataframe tbody tr th {\n",
       "        vertical-align: top;\n",
       "    }\n",
       "\n",
       "    .dataframe thead th {\n",
       "        text-align: right;\n",
       "    }\n",
       "</style>\n",
       "<table border=\"1\" class=\"dataframe\">\n",
       "  <thead>\n",
       "    <tr style=\"text-align: right;\">\n",
       "      <th></th>\n",
       "      <th>flight_number</th>\n",
       "      <th>scheduled_departure_date</th>\n",
       "      <th>question_text</th>\n",
       "      <th>score</th>\n",
       "      <th>satisfaction_type</th>\n",
       "      <th>Month</th>\n",
       "    </tr>\n",
       "  </thead>\n",
       "  <tbody>\n",
       "    <tr>\n",
       "      <th>0</th>\n",
       "      <td>3802</td>\n",
       "      <td>2022-09-01</td>\n",
       "      <td>How satisfied were you with the food &amp; beverag...</td>\n",
       "      <td>2</td>\n",
       "      <td>Dissatisfied</td>\n",
       "      <td>9</td>\n",
       "    </tr>\n",
       "    <tr>\n",
       "      <th>1</th>\n",
       "      <td>4645</td>\n",
       "      <td>2022-09-01</td>\n",
       "      <td>How satisfied were you with the food &amp; beverag...</td>\n",
       "      <td>5</td>\n",
       "      <td>Satisfied</td>\n",
       "      <td>9</td>\n",
       "    </tr>\n",
       "    <tr>\n",
       "      <th>2</th>\n",
       "      <td>5236</td>\n",
       "      <td>2022-09-01</td>\n",
       "      <td>How satisfied were you with the food &amp; beverag...</td>\n",
       "      <td>5</td>\n",
       "      <td>Satisfied</td>\n",
       "      <td>9</td>\n",
       "    </tr>\n",
       "    <tr>\n",
       "      <th>3</th>\n",
       "      <td>4686</td>\n",
       "      <td>2022-09-01</td>\n",
       "      <td>How satisfied were you with the food &amp; beverag...</td>\n",
       "      <td>3</td>\n",
       "      <td>Dissatisfied</td>\n",
       "      <td>9</td>\n",
       "    </tr>\n",
       "    <tr>\n",
       "      <th>4</th>\n",
       "      <td>671</td>\n",
       "      <td>2022-09-01</td>\n",
       "      <td>How satisfied were you with the food &amp; beverag...</td>\n",
       "      <td>5</td>\n",
       "      <td>Satisfied</td>\n",
       "      <td>9</td>\n",
       "    </tr>\n",
       "  </tbody>\n",
       "</table>\n",
       "</div>"
      ],
      "text/plain": [
       "   flight_number scheduled_departure_date  \\\n",
       "0           3802               2022-09-01   \n",
       "1           4645               2022-09-01   \n",
       "2           5236               2022-09-01   \n",
       "3           4686               2022-09-01   \n",
       "4            671               2022-09-01   \n",
       "\n",
       "                                       question_text score satisfaction_type  \\\n",
       "0  How satisfied were you with the food & beverag...     2      Dissatisfied   \n",
       "1  How satisfied were you with the food & beverag...     5         Satisfied   \n",
       "2  How satisfied were you with the food & beverag...     5         Satisfied   \n",
       "3  How satisfied were you with the food & beverag...     3      Dissatisfied   \n",
       "4  How satisfied were you with the food & beverag...     5         Satisfied   \n",
       "\n",
       "   Month  \n",
       "0      9  \n",
       "1      9  \n",
       "2      9  \n",
       "3      9  \n",
       "4      9  "
      ]
     },
     "execution_count": 27,
     "metadata": {},
     "output_type": "execute_result"
    }
   ],
   "source": [
    "flightsatisfaction.head()"
   ]
  },
  {
   "cell_type": "code",
   "execution_count": 28,
   "metadata": {
    "id": "QsRdDQrdj-ma"
   },
   "outputs": [],
   "source": [
    "summerflightsatisfaction = flightsatisfaction[flightsatisfaction[\"Month\"].isin([6,7,8,9])]"
   ]
  },
  {
   "cell_type": "code",
   "execution_count": 29,
   "metadata": {
    "id": "faVe6q07nhbq"
   },
   "outputs": [],
   "source": [
    "average_summerflightsatisfaction = summerflightsatisfaction[summerflightsatisfaction[\"satisfaction_type\"] == \"Satisfied\"]"
   ]
  },
  {
   "cell_type": "code",
   "execution_count": 30,
   "metadata": {
    "colab": {
     "base_uri": "https://localhost:8080/",
     "height": 424
    },
    "id": "f3mlwpYPnuLw",
    "outputId": "5ba93a6c-798a-419d-d976-8273df51c469"
   },
   "outputs": [
    {
     "data": {
      "text/html": [
       "<div>\n",
       "<style scoped>\n",
       "    .dataframe tbody tr th:only-of-type {\n",
       "        vertical-align: middle;\n",
       "    }\n",
       "\n",
       "    .dataframe tbody tr th {\n",
       "        vertical-align: top;\n",
       "    }\n",
       "\n",
       "    .dataframe thead th {\n",
       "        text-align: right;\n",
       "    }\n",
       "</style>\n",
       "<table border=\"1\" class=\"dataframe\">\n",
       "  <thead>\n",
       "    <tr style=\"text-align: right;\">\n",
       "      <th></th>\n",
       "      <th>flight_number</th>\n",
       "      <th>scheduled_departure_date</th>\n",
       "      <th>question_text</th>\n",
       "      <th>score</th>\n",
       "      <th>satisfaction_type</th>\n",
       "      <th>Month</th>\n",
       "    </tr>\n",
       "  </thead>\n",
       "  <tbody>\n",
       "    <tr>\n",
       "      <th>1</th>\n",
       "      <td>4645</td>\n",
       "      <td>2022-09-01</td>\n",
       "      <td>How satisfied were you with the food &amp; beverag...</td>\n",
       "      <td>5</td>\n",
       "      <td>Satisfied</td>\n",
       "      <td>9</td>\n",
       "    </tr>\n",
       "    <tr>\n",
       "      <th>2</th>\n",
       "      <td>5236</td>\n",
       "      <td>2022-09-01</td>\n",
       "      <td>How satisfied were you with the food &amp; beverag...</td>\n",
       "      <td>5</td>\n",
       "      <td>Satisfied</td>\n",
       "      <td>9</td>\n",
       "    </tr>\n",
       "    <tr>\n",
       "      <th>4</th>\n",
       "      <td>671</td>\n",
       "      <td>2022-09-01</td>\n",
       "      <td>How satisfied were you with the food &amp; beverag...</td>\n",
       "      <td>5</td>\n",
       "      <td>Satisfied</td>\n",
       "      <td>9</td>\n",
       "    </tr>\n",
       "    <tr>\n",
       "      <th>6</th>\n",
       "      <td>3609</td>\n",
       "      <td>2022-09-01</td>\n",
       "      <td>How satisfied were you with the food &amp; beverag...</td>\n",
       "      <td>5</td>\n",
       "      <td>Satisfied</td>\n",
       "      <td>9</td>\n",
       "    </tr>\n",
       "    <tr>\n",
       "      <th>25</th>\n",
       "      <td>5378</td>\n",
       "      <td>2022-09-01</td>\n",
       "      <td>How satisfied were you with the food &amp; beverag...</td>\n",
       "      <td>4</td>\n",
       "      <td>Satisfied</td>\n",
       "      <td>9</td>\n",
       "    </tr>\n",
       "    <tr>\n",
       "      <th>...</th>\n",
       "      <td>...</td>\n",
       "      <td>...</td>\n",
       "      <td>...</td>\n",
       "      <td>...</td>\n",
       "      <td>...</td>\n",
       "      <td>...</td>\n",
       "    </tr>\n",
       "    <tr>\n",
       "      <th>47059</th>\n",
       "      <td>840</td>\n",
       "      <td>2022-09-30</td>\n",
       "      <td>How satisfied were you with the food &amp; beverag...</td>\n",
       "      <td>4</td>\n",
       "      <td>Satisfied</td>\n",
       "      <td>9</td>\n",
       "    </tr>\n",
       "    <tr>\n",
       "      <th>47062</th>\n",
       "      <td>188</td>\n",
       "      <td>2022-09-30</td>\n",
       "      <td>How satisfied were you with the food &amp; beverag...</td>\n",
       "      <td>5</td>\n",
       "      <td>Satisfied</td>\n",
       "      <td>9</td>\n",
       "    </tr>\n",
       "    <tr>\n",
       "      <th>47066</th>\n",
       "      <td>189</td>\n",
       "      <td>2022-09-30</td>\n",
       "      <td>How satisfied were you with the food &amp; beverag...</td>\n",
       "      <td>4</td>\n",
       "      <td>Satisfied</td>\n",
       "      <td>9</td>\n",
       "    </tr>\n",
       "    <tr>\n",
       "      <th>47069</th>\n",
       "      <td>2</td>\n",
       "      <td>2022-09-30</td>\n",
       "      <td>How satisfied were you with the food &amp; beverag...</td>\n",
       "      <td>4</td>\n",
       "      <td>Satisfied</td>\n",
       "      <td>9</td>\n",
       "    </tr>\n",
       "    <tr>\n",
       "      <th>47070</th>\n",
       "      <td>2</td>\n",
       "      <td>2022-09-30</td>\n",
       "      <td>How satisfied were you with the food &amp; beverag...</td>\n",
       "      <td>4</td>\n",
       "      <td>Satisfied</td>\n",
       "      <td>9</td>\n",
       "    </tr>\n",
       "  </tbody>\n",
       "</table>\n",
       "<p>12610 rows × 6 columns</p>\n",
       "</div>"
      ],
      "text/plain": [
       "       flight_number scheduled_departure_date  \\\n",
       "1               4645               2022-09-01   \n",
       "2               5236               2022-09-01   \n",
       "4                671               2022-09-01   \n",
       "6               3609               2022-09-01   \n",
       "25              5378               2022-09-01   \n",
       "...              ...                      ...   \n",
       "47059            840               2022-09-30   \n",
       "47062            188               2022-09-30   \n",
       "47066            189               2022-09-30   \n",
       "47069              2               2022-09-30   \n",
       "47070              2               2022-09-30   \n",
       "\n",
       "                                           question_text score  \\\n",
       "1      How satisfied were you with the food & beverag...     5   \n",
       "2      How satisfied were you with the food & beverag...     5   \n",
       "4      How satisfied were you with the food & beverag...     5   \n",
       "6      How satisfied were you with the food & beverag...     5   \n",
       "25     How satisfied were you with the food & beverag...     4   \n",
       "...                                                  ...   ...   \n",
       "47059  How satisfied were you with the food & beverag...     4   \n",
       "47062  How satisfied were you with the food & beverag...     5   \n",
       "47066  How satisfied were you with the food & beverag...     4   \n",
       "47069  How satisfied were you with the food & beverag...     4   \n",
       "47070  How satisfied were you with the food & beverag...     4   \n",
       "\n",
       "      satisfaction_type  Month  \n",
       "1             Satisfied      9  \n",
       "2             Satisfied      9  \n",
       "4             Satisfied      9  \n",
       "6             Satisfied      9  \n",
       "25            Satisfied      9  \n",
       "...                 ...    ...  \n",
       "47059         Satisfied      9  \n",
       "47062         Satisfied      9  \n",
       "47066         Satisfied      9  \n",
       "47069         Satisfied      9  \n",
       "47070         Satisfied      9  \n",
       "\n",
       "[12610 rows x 6 columns]"
      ]
     },
     "execution_count": 30,
     "metadata": {},
     "output_type": "execute_result"
    }
   ],
   "source": [
    "average_summerflightsatisfaction"
   ]
  },
  {
   "cell_type": "code",
   "execution_count": 31,
   "metadata": {
    "colab": {
     "base_uri": "https://localhost:8080/"
    },
    "id": "tCZKQULRqWg1",
    "outputId": "040650d6-bc92-4ae3-a9de-c4b5c08158bf"
   },
   "outputs": [
    {
     "name": "stderr",
     "output_type": "stream",
     "text": [
      "C:\\Users\\DELL\\AppData\\Local\\Temp\\ipykernel_6824\\4177921417.py:1: SettingWithCopyWarning: \n",
      "A value is trying to be set on a copy of a slice from a DataFrame\n",
      "\n",
      "See the caveats in the documentation: https://pandas.pydata.org/pandas-docs/stable/user_guide/indexing.html#returning-a-view-versus-a-copy\n",
      "  average_summerflightsatisfaction[\"score\"].fillna(0,inplace=True)\n"
     ]
    }
   ],
   "source": [
    "average_summerflightsatisfaction[\"score\"].fillna(0,inplace=True)"
   ]
  },
  {
   "cell_type": "code",
   "execution_count": 32,
   "metadata": {
    "colab": {
     "base_uri": "https://localhost:8080/"
    },
    "id": "CoYXRXaIqgE5",
    "outputId": "83e80b73-5afd-492e-fdb5-1f92d0a4c834"
   },
   "outputs": [
    {
     "name": "stderr",
     "output_type": "stream",
     "text": [
      "C:\\Users\\DELL\\AppData\\Local\\Temp\\ipykernel_6824\\2085636735.py:1: SettingWithCopyWarning: \n",
      "A value is trying to be set on a copy of a slice from a DataFrame.\n",
      "Try using .loc[row_indexer,col_indexer] = value instead\n",
      "\n",
      "See the caveats in the documentation: https://pandas.pydata.org/pandas-docs/stable/user_guide/indexing.html#returning-a-view-versus-a-copy\n",
      "  average_summerflightsatisfaction[\"score\"]= average_summerflightsatisfaction[\"score\"].astype(int)\n"
     ]
    }
   ],
   "source": [
    "average_summerflightsatisfaction[\"score\"]= average_summerflightsatisfaction[\"score\"].astype(int)\n",
    "# df['column_name'] = df['column_name'].astype(int)"
   ]
  },
  {
   "cell_type": "code",
   "execution_count": 33,
   "metadata": {
    "colab": {
     "base_uri": "https://localhost:8080/"
    },
    "id": "oolIqgEMsTmE",
    "outputId": "3b211e05-668c-412d-813f-7479380ed335"
   },
   "outputs": [
    {
     "data": {
      "text/plain": [
       "4.533941316415543"
      ]
     },
     "execution_count": 33,
     "metadata": {},
     "output_type": "execute_result"
    }
   ],
   "source": [
    "average_summerflightsatisfaction[\"score\"].mean()"
   ]
  },
  {
   "cell_type": "code",
   "execution_count": 34,
   "metadata": {
    "colab": {
     "base_uri": "https://localhost:8080/",
     "height": 447
    },
    "id": "vinOxzNctwgF",
    "outputId": "951ba05a-32f0-4934-d1eb-ae27f25cf598"
   },
   "outputs": [
    {
     "data": {
      "text/plain": [
       "<AxesSubplot:>"
      ]
     },
     "execution_count": 34,
     "metadata": {},
     "output_type": "execute_result"
    },
    {
     "data": {
      "image/png": "[encoded data removed]",
      "text/plain": [
       "<Figure size 432x288 with 1 Axes>"
      ]
     },
     "metadata": {
      "needs_background": "light"
     },
     "output_type": "display_data"
    }
   ],
   "source": [
    "# there are no outliers\n",
    "average_summerflightsatisfaction[\"score\"].plot(kind=\"box\")"
   ]
  },
  {
   "cell_type": "code",
   "execution_count": 35,
   "metadata": {
    "colab": {
     "base_uri": "https://localhost:8080/",
     "height": 452
    },
    "id": "MKP2ylL0vFSP",
    "outputId": "0b8fd6cc-053a-4d36-8814-6aa4e4262872"
   },
   "outputs": [
    {
     "data": {
      "text/html": [
       "<div>\n",
       "<style scoped>\n",
       "    .dataframe tbody tr th:only-of-type {\n",
       "        vertical-align: middle;\n",
       "    }\n",
       "\n",
       "    .dataframe tbody tr th {\n",
       "        vertical-align: top;\n",
       "    }\n",
       "\n",
       "    .dataframe thead th {\n",
       "        text-align: right;\n",
       "    }\n",
       "</style>\n",
       "<table border=\"1\" class=\"dataframe\">\n",
       "  <thead>\n",
       "    <tr style=\"text-align: right;\">\n",
       "      <th></th>\n",
       "      <th>flight_number</th>\n",
       "      <th>origin_station_code</th>\n",
       "      <th>destination_station_code</th>\n",
       "      <th>scheduled_departure_date</th>\n",
       "      <th>arrival_delay_group</th>\n",
       "      <th>departure_delay_group</th>\n",
       "      <th>entity</th>\n",
       "      <th>verbatim_text</th>\n",
       "      <th>seat_factor_band</th>\n",
       "      <th>ques_verbatim_text</th>\n",
       "      <th>loyalty_program_level</th>\n",
       "      <th>fleet_type_description</th>\n",
       "      <th>fleet_usage</th>\n",
       "      <th>response_group</th>\n",
       "    </tr>\n",
       "  </thead>\n",
       "  <tbody>\n",
       "    <tr>\n",
       "      <th>0</th>\n",
       "      <td>950</td>\n",
       "      <td>LHX</td>\n",
       "      <td>SFX</td>\n",
       "      <td>2022-09-01</td>\n",
       "      <td>Early &amp; Ontime</td>\n",
       "      <td>Delayed</td>\n",
       "      <td>Atlantic</td>\n",
       "      <td>There was no salad dressing. The staff informe...</td>\n",
       "      <td>0 to 70</td>\n",
       "      <td>Is there anything else you'd like to share abo...</td>\n",
       "      <td>non-elite</td>\n",
       "      <td>B777-200</td>\n",
       "      <td>Mainline</td>\n",
       "      <td>member</td>\n",
       "    </tr>\n",
       "    <tr>\n",
       "      <th>1</th>\n",
       "      <td>950</td>\n",
       "      <td>LHX</td>\n",
       "      <td>SFX</td>\n",
       "      <td>2022-09-01</td>\n",
       "      <td>Early &amp; Ontime</td>\n",
       "      <td>Delayed</td>\n",
       "      <td>Atlantic</td>\n",
       "      <td>Not a choice.</td>\n",
       "      <td>0 to 70</td>\n",
       "      <td>Is there anything else you'd like to share abo...</td>\n",
       "      <td>NaN</td>\n",
       "      <td>B777-200</td>\n",
       "      <td>Mainline</td>\n",
       "      <td>non-member</td>\n",
       "    </tr>\n",
       "    <tr>\n",
       "      <th>2</th>\n",
       "      <td>1876</td>\n",
       "      <td>FLX</td>\n",
       "      <td>EWX</td>\n",
       "      <td>2022-09-01</td>\n",
       "      <td>Early &amp; Ontime</td>\n",
       "      <td>Early &amp; Ontime</td>\n",
       "      <td>Domestic</td>\n",
       "      <td>More variety and bigger snacks.</td>\n",
       "      <td>90+</td>\n",
       "      <td>Is there anything else you'd like to share abo...</td>\n",
       "      <td>non-elite</td>\n",
       "      <td>A320-200</td>\n",
       "      <td>Mainline</td>\n",
       "      <td>member</td>\n",
       "    </tr>\n",
       "    <tr>\n",
       "      <th>3</th>\n",
       "      <td>5469</td>\n",
       "      <td>SFX</td>\n",
       "      <td>SEX</td>\n",
       "      <td>2022-09-01</td>\n",
       "      <td>Early &amp; Ontime</td>\n",
       "      <td>Early &amp; Ontime</td>\n",
       "      <td>Domestic</td>\n",
       "      <td>Serving pretzels and cookies in first class wa...</td>\n",
       "      <td>90+</td>\n",
       "      <td>Is there anything else you'd like to share abo...</td>\n",
       "      <td>premier gold</td>\n",
       "      <td>ERJ-175</td>\n",
       "      <td>Express</td>\n",
       "      <td>member</td>\n",
       "    </tr>\n",
       "    <tr>\n",
       "      <th>4</th>\n",
       "      <td>281</td>\n",
       "      <td>DEX</td>\n",
       "      <td>ANX</td>\n",
       "      <td>2022-09-01</td>\n",
       "      <td>Early &amp; Ontime</td>\n",
       "      <td>Early &amp; Ontime</td>\n",
       "      <td>Domestic</td>\n",
       "      <td>More inflight selections to purchase for full ...</td>\n",
       "      <td>0 to 70</td>\n",
       "      <td>Is there anything else you'd like to share abo...</td>\n",
       "      <td>non-elite</td>\n",
       "      <td>B737-MAX8</td>\n",
       "      <td>Mainline</td>\n",
       "      <td>member</td>\n",
       "    </tr>\n",
       "  </tbody>\n",
       "</table>\n",
       "</div>"
      ],
      "text/plain": [
       "   flight_number origin_station_code destination_station_code  \\\n",
       "0            950                 LHX                      SFX   \n",
       "1            950                 LHX                      SFX   \n",
       "2           1876                 FLX                      EWX   \n",
       "3           5469                 SFX                      SEX   \n",
       "4            281                 DEX                      ANX   \n",
       "\n",
       "  scheduled_departure_date arrival_delay_group departure_delay_group  \\\n",
       "0               2022-09-01      Early & Ontime               Delayed   \n",
       "1               2022-09-01      Early & Ontime               Delayed   \n",
       "2               2022-09-01      Early & Ontime        Early & Ontime   \n",
       "3               2022-09-01      Early & Ontime        Early & Ontime   \n",
       "4               2022-09-01      Early & Ontime        Early & Ontime   \n",
       "\n",
       "     entity                                      verbatim_text  \\\n",
       "0  Atlantic  There was no salad dressing. The staff informe...   \n",
       "1  Atlantic                                      Not a choice.   \n",
       "2  Domestic                    More variety and bigger snacks.   \n",
       "3  Domestic  Serving pretzels and cookies in first class wa...   \n",
       "4  Domestic  More inflight selections to purchase for full ...   \n",
       "\n",
       "  seat_factor_band                                 ques_verbatim_text  \\\n",
       "0          0 to 70  Is there anything else you'd like to share abo...   \n",
       "1          0 to 70  Is there anything else you'd like to share abo...   \n",
       "2              90+  Is there anything else you'd like to share abo...   \n",
       "3              90+  Is there anything else you'd like to share abo...   \n",
       "4          0 to 70  Is there anything else you'd like to share abo...   \n",
       "\n",
       "  loyalty_program_level fleet_type_description fleet_usage response_group  \n",
       "0             non-elite               B777-200    Mainline         member  \n",
       "1                   NaN               B777-200    Mainline     non-member  \n",
       "2             non-elite               A320-200    Mainline         member  \n",
       "3          premier gold                ERJ-175     Express         member  \n",
       "4             non-elite              B737-MAX8    Mainline         member  "
      ]
     },
     "execution_count": 35,
     "metadata": {},
     "output_type": "execute_result"
    }
   ],
   "source": [
    "surverydata_customercomments.head()"
   ]
  },
  {
   "cell_type": "code",
   "execution_count": 36,
   "metadata": {
    "colab": {
     "base_uri": "https://localhost:8080/"
    },
    "id": "N0v_XKMqxJuF",
    "outputId": "6b5eaf3f-9637-4737-c6f3-706de2e37f43"
   },
   "outputs": [
    {
     "data": {
      "text/plain": [
       "0       There was no salad dressing. The staff informe...\n",
       "1                                           Not a choice.\n",
       "2                         More variety and bigger snacks.\n",
       "3       Serving pretzels and cookies in first class wa...\n",
       "4       More inflight selections to purchase for full ...\n",
       "                              ...                        \n",
       "9419    tapas box needs better pita chips. the provide...\n",
       "9420    My flight attendant missed my drink order 2x a...\n",
       "9421                                                  Mo.\n",
       "9422    without a smartphone, not much to eat. we pack...\n",
       "9423          Offering coffee or tea would also be great.\n",
       "Name: verbatim_text, Length: 9424, dtype: object"
      ]
     },
     "execution_count": 36,
     "metadata": {},
     "output_type": "execute_result"
    }
   ],
   "source": [
    "surverydata_customercomments[\"verbatim_text\"]"
   ]
  },
  {
   "cell_type": "code",
   "execution_count": 37,
   "metadata": {
    "colab": {
     "base_uri": "https://localhost:8080/"
    },
    "id": "M_469zYpwWhF",
    "outputId": "6486cb8f-d95d-4393-8f31-f17ac128a88b"
   },
   "outputs": [
    {
     "data": {
      "text/plain": [
       "0       Is there anything else you'd like to share abo...\n",
       "1       Is there anything else you'd like to share abo...\n",
       "2       Is there anything else you'd like to share abo...\n",
       "3       Is there anything else you'd like to share abo...\n",
       "4       Is there anything else you'd like to share abo...\n",
       "                              ...                        \n",
       "9419    Is there anything else you'd like to share abo...\n",
       "9420    Is there anything else you'd like to share abo...\n",
       "9421    Is there anything else you'd like to share abo...\n",
       "9422    Is there anything else you'd like to share abo...\n",
       "9423    Is there anything else you'd like to share abo...\n",
       "Name: ques_verbatim_text, Length: 9424, dtype: object"
      ]
     },
     "execution_count": 37,
     "metadata": {},
     "output_type": "execute_result"
    }
   ],
   "source": [
    "surverydata_customercomments[\"ques_verbatim_text\"]"
   ]
  },
  {
   "cell_type": "code",
   "execution_count": 38,
   "metadata": {
    "colab": {
     "base_uri": "https://localhost:8080/"
    },
    "id": "Z6VE6II1x_s8",
    "outputId": "fdd586d1-6aae-4969-d1a6-c4fbb16981f8"
   },
   "outputs": [
    {
     "name": "stdout",
     "output_type": "stream",
     "text": [
      "<class 'pandas.core.frame.DataFrame'>\n",
      "RangeIndex: 9424 entries, 0 to 9423\n",
      "Data columns (total 14 columns):\n",
      " #   Column                    Non-Null Count  Dtype \n",
      "---  ------                    --------------  ----- \n",
      " 0   flight_number             9424 non-null   int64 \n",
      " 1   origin_station_code       9424 non-null   object\n",
      " 2   destination_station_code  9424 non-null   object\n",
      " 3   scheduled_departure_date  9424 non-null   object\n",
      " 4   arrival_delay_group       9424 non-null   object\n",
      " 5   departure_delay_group     9424 non-null   object\n",
      " 6   entity                    9424 non-null   object\n",
      " 7   verbatim_text             9424 non-null   object\n",
      " 8   seat_factor_band          9424 non-null   object\n",
      " 9   ques_verbatim_text        9424 non-null   object\n",
      " 10  loyalty_program_level     6920 non-null   object\n",
      " 11  fleet_type_description    9424 non-null   object\n",
      " 12  fleet_usage               9424 non-null   object\n",
      " 13  response_group            9424 non-null   object\n",
      "dtypes: int64(1), object(13)\n",
      "memory usage: 1.0+ MB\n"
     ]
    }
   ],
   "source": [
    "\tsurverydata_customercomments.info()"
   ]
  },
  {
   "cell_type": "code",
   "execution_count": 39,
   "metadata": {
    "colab": {
     "base_uri": "https://localhost:8080/"
    },
    "id": "F0awch-g2YVL",
    "outputId": "e5dce272-b911-4898-e516-19f0a33c54be"
   },
   "outputs": [
    {
     "data": {
      "text/plain": [
       "0       other\n",
       "1       other\n",
       "2       other\n",
       "3       other\n",
       "4       other\n",
       "        ...  \n",
       "9419    other\n",
       "9420    other\n",
       "9421    other\n",
       "9422     food\n",
       "9423    other\n",
       "Name: verbatim_text, Length: 9424, dtype: object"
      ]
     },
     "execution_count": 39,
     "metadata": {},
     "output_type": "execute_result"
    }
   ],
   "source": [
    "common_themes = surverydata_customercomments[\"verbatim_text\"].apply(lambda x:\"food\" if \"food\" in x else \"service\" if \"service\" in x else \"other\")\n",
    "common_themes"
   ]
  },
  {
   "cell_type": "code",
   "execution_count": 40,
   "metadata": {
    "colab": {
     "base_uri": "https://localhost:8080/"
    },
    "id": "LFgzKNAQ4jx3",
    "outputId": "4f0b9d60-7b30-4eb6-a40e-dd52aadffebd"
   },
   "outputs": [
    {
     "data": {
      "text/plain": [
       "verbatim_text\n",
       "other      7891\n",
       "food       1254\n",
       "service     279\n",
       "Name: count, dtype: int64"
      ]
     },
     "execution_count": 40,
     "metadata": {},
     "output_type": "execute_result"
    }
   ],
   "source": [
    "comments = common_themes.value_counts()\n",
    "comments"
   ]
  },
  {
   "cell_type": "code",
   "execution_count": null,
   "metadata": {
    "id": "K1bPCcMo41iu"
   },
   "outputs": [],
   "source": []
  },
  {
   "cell_type": "code",
   "execution_count": 41,
   "metadata": {
    "colab": {
     "base_uri": "https://localhost:8080/",
     "height": 400
    },
    "id": "j_B96D4O6NO4",
    "outputId": "1c728a5b-96a1-4f5b-f851-59dc28b311f0"
   },
   "outputs": [
    {
     "data": {
      "text/html": [
       "<div>\n",
       "<style scoped>\n",
       "    .dataframe tbody tr th:only-of-type {\n",
       "        vertical-align: middle;\n",
       "    }\n",
       "\n",
       "    .dataframe tbody tr th {\n",
       "        vertical-align: top;\n",
       "    }\n",
       "\n",
       "    .dataframe thead th {\n",
       "        text-align: right;\n",
       "    }\n",
       "</style>\n",
       "<table border=\"1\" class=\"dataframe\">\n",
       "  <thead>\n",
       "    <tr style=\"text-align: right;\">\n",
       "      <th></th>\n",
       "      <th>flight_number</th>\n",
       "      <th>departure_station_code</th>\n",
       "      <th>arrival_station_code</th>\n",
       "      <th>record_locator</th>\n",
       "      <th>carrier_code</th>\n",
       "      <th>scheduled_departure_dtl</th>\n",
       "      <th>cabin_code</th>\n",
       "      <th>meal_group</th>\n",
       "      <th>meal_category</th>\n",
       "      <th>meal_short_description</th>\n",
       "      <th>meal_description</th>\n",
       "      <th>is_entree</th>\n",
       "      <th>pre_order_qty</th>\n",
       "    </tr>\n",
       "  </thead>\n",
       "  <tbody>\n",
       "    <tr>\n",
       "      <th>0</th>\n",
       "      <td>1423</td>\n",
       "      <td>INX</td>\n",
       "      <td>DEX</td>\n",
       "      <td>B3XX1H</td>\n",
       "      <td>UA</td>\n",
       "      <td>9/1/2022</td>\n",
       "      <td>J</td>\n",
       "      <td>ENTREES HOT</td>\n",
       "      <td>POULTRY</td>\n",
       "      <td>Za'atar chicken with spinach, roasted peppers,...</td>\n",
       "      <td>Za'atar chicken with spinach, roasted peppers,...</td>\n",
       "      <td>Y</td>\n",
       "      <td>1</td>\n",
       "    </tr>\n",
       "    <tr>\n",
       "      <th>1</th>\n",
       "      <td>1620</td>\n",
       "      <td>IAX</td>\n",
       "      <td>CUX</td>\n",
       "      <td>BFXXJC</td>\n",
       "      <td>UA</td>\n",
       "      <td>9/2/2022</td>\n",
       "      <td>J</td>\n",
       "      <td>ENTREES HOT</td>\n",
       "      <td>BREAKFAST</td>\n",
       "      <td>Tomato and kale baked egg</td>\n",
       "      <td>Tomato and kale baked egg with fire roasted re...</td>\n",
       "      <td>Y</td>\n",
       "      <td>2</td>\n",
       "    </tr>\n",
       "    <tr>\n",
       "      <th>2</th>\n",
       "      <td>1852</td>\n",
       "      <td>ORX</td>\n",
       "      <td>PDX</td>\n",
       "      <td>DPXX2H</td>\n",
       "      <td>UA</td>\n",
       "      <td>9/2/2022</td>\n",
       "      <td>J</td>\n",
       "      <td>ENTREES HOT</td>\n",
       "      <td>BREAKFAST</td>\n",
       "      <td>Tomato and kale baked egg</td>\n",
       "      <td>Tomato and kale baked egg with fire roasted re...</td>\n",
       "      <td>Y</td>\n",
       "      <td>1</td>\n",
       "    </tr>\n",
       "    <tr>\n",
       "      <th>3</th>\n",
       "      <td>548</td>\n",
       "      <td>IAX</td>\n",
       "      <td>SFX</td>\n",
       "      <td>ELXX8H</td>\n",
       "      <td>UA</td>\n",
       "      <td>9/2/2022</td>\n",
       "      <td>J</td>\n",
       "      <td>ENTREES HOT</td>\n",
       "      <td>BREAKFAST</td>\n",
       "      <td>Scrambled eggs</td>\n",
       "      <td>Scrambled eggs with ham, onion and peppers</td>\n",
       "      <td>Y</td>\n",
       "      <td>2</td>\n",
       "    </tr>\n",
       "    <tr>\n",
       "      <th>4</th>\n",
       "      <td>1155</td>\n",
       "      <td>IAX</td>\n",
       "      <td>CUX</td>\n",
       "      <td>NCXX4S</td>\n",
       "      <td>UA</td>\n",
       "      <td>9/2/2022</td>\n",
       "      <td>J</td>\n",
       "      <td>ENTREES HOT</td>\n",
       "      <td>BREAKFAST</td>\n",
       "      <td>Belgium waffle</td>\n",
       "      <td>Belgium waffle with bourbon banana fosters sau...</td>\n",
       "      <td>Y</td>\n",
       "      <td>2</td>\n",
       "    </tr>\n",
       "  </tbody>\n",
       "</table>\n",
       "</div>"
      ],
      "text/plain": [
       "   flight_number departure_station_code arrival_station_code record_locator  \\\n",
       "0           1423                    INX                  DEX         B3XX1H   \n",
       "1           1620                    IAX                  CUX         BFXXJC   \n",
       "2           1852                    ORX                  PDX         DPXX2H   \n",
       "3            548                    IAX                  SFX         ELXX8H   \n",
       "4           1155                    IAX                  CUX         NCXX4S   \n",
       "\n",
       "  carrier_code scheduled_departure_dtl cabin_code   meal_group meal_category  \\\n",
       "0           UA                9/1/2022          J  ENTREES HOT       POULTRY   \n",
       "1           UA                9/2/2022          J  ENTREES HOT     BREAKFAST   \n",
       "2           UA                9/2/2022          J  ENTREES HOT     BREAKFAST   \n",
       "3           UA                9/2/2022          J  ENTREES HOT     BREAKFAST   \n",
       "4           UA                9/2/2022          J  ENTREES HOT     BREAKFAST   \n",
       "\n",
       "                              meal_short_description  \\\n",
       "0  Za'atar chicken with spinach, roasted peppers,...   \n",
       "1                          Tomato and kale baked egg   \n",
       "2                          Tomato and kale baked egg   \n",
       "3                                     Scrambled eggs   \n",
       "4                                     Belgium waffle   \n",
       "\n",
       "                                    meal_description is_entree  pre_order_qty  \n",
       "0  Za'atar chicken with spinach, roasted peppers,...         Y              1  \n",
       "1  Tomato and kale baked egg with fire roasted re...         Y              2  \n",
       "2  Tomato and kale baked egg with fire roasted re...         Y              1  \n",
       "3         Scrambled eggs with ham, onion and peppers         Y              2  \n",
       "4  Belgium waffle with bourbon banana fosters sau...         Y              2  "
      ]
     },
     "execution_count": 41,
     "metadata": {},
     "output_type": "execute_result"
    }
   ],
   "source": [
    "inflightservice_preorder.head()"
   ]
  },
  {
   "cell_type": "code",
   "execution_count": 42,
   "metadata": {
    "colab": {
     "base_uri": "https://localhost:8080/"
    },
    "id": "LBlVBKRqUFZ9",
    "outputId": "c45653a2-0b37-4f49-d5c4-f5929064c544"
   },
   "outputs": [
    {
     "name": "stdout",
     "output_type": "stream",
     "text": [
      "(212039, 13)\n"
     ]
    }
   ],
   "source": [
    "print(inflightservice_preorder.shape)"
   ]
  },
  {
   "cell_type": "code",
   "execution_count": 43,
   "metadata": {
    "colab": {
     "base_uri": "https://localhost:8080/",
     "height": 112
    },
    "id": "PUa1N53sOz5I",
    "outputId": "518f8393-22a5-40d2-8bff-144495955d5b"
   },
   "outputs": [
    {
     "data": {
      "text/html": [
       "<div>\n",
       "<style scoped>\n",
       "    .dataframe tbody tr th:only-of-type {\n",
       "        vertical-align: middle;\n",
       "    }\n",
       "\n",
       "    .dataframe tbody tr th {\n",
       "        vertical-align: top;\n",
       "    }\n",
       "\n",
       "    .dataframe thead th {\n",
       "        text-align: right;\n",
       "    }\n",
       "</style>\n",
       "<table border=\"1\" class=\"dataframe\">\n",
       "  <thead>\n",
       "    <tr style=\"text-align: right;\">\n",
       "      <th></th>\n",
       "      <th>count</th>\n",
       "      <th>mean</th>\n",
       "      <th>std</th>\n",
       "      <th>min</th>\n",
       "      <th>25%</th>\n",
       "      <th>50%</th>\n",
       "      <th>75%</th>\n",
       "      <th>max</th>\n",
       "    </tr>\n",
       "  </thead>\n",
       "  <tbody>\n",
       "    <tr>\n",
       "      <th>flight_number</th>\n",
       "      <td>212039.0</td>\n",
       "      <td>1454.631634</td>\n",
       "      <td>726.394631</td>\n",
       "      <td>2.0</td>\n",
       "      <td>732.0</td>\n",
       "      <td>1556.0</td>\n",
       "      <td>2090.0</td>\n",
       "      <td>2685.0</td>\n",
       "    </tr>\n",
       "    <tr>\n",
       "      <th>pre_order_qty</th>\n",
       "      <td>212039.0</td>\n",
       "      <td>1.200902</td>\n",
       "      <td>0.854160</td>\n",
       "      <td>0.0</td>\n",
       "      <td>1.0</td>\n",
       "      <td>1.0</td>\n",
       "      <td>1.0</td>\n",
       "      <td>44.0</td>\n",
       "    </tr>\n",
       "  </tbody>\n",
       "</table>\n",
       "</div>"
      ],
      "text/plain": [
       "                  count         mean         std  min    25%     50%     75%  \\\n",
       "flight_number  212039.0  1454.631634  726.394631  2.0  732.0  1556.0  2090.0   \n",
       "pre_order_qty  212039.0     1.200902    0.854160  0.0    1.0     1.0     1.0   \n",
       "\n",
       "                  max  \n",
       "flight_number  2685.0  \n",
       "pre_order_qty    44.0  "
      ]
     },
     "execution_count": 43,
     "metadata": {},
     "output_type": "execute_result"
    }
   ],
   "source": [
    "inflightservice_preorder.describe().T"
   ]
  },
  {
   "cell_type": "code",
   "execution_count": 44,
   "metadata": {
    "colab": {
     "base_uri": "https://localhost:8080/"
    },
    "id": "fGDKjrVzSMll",
    "outputId": "d8ed15c1-28ce-40d0-d328-c33b75efc1dd"
   },
   "outputs": [
    {
     "data": {
      "text/plain": [
       "flight_number                  0\n",
       "departure_station_code         0\n",
       "arrival_station_code           0\n",
       "record_locator                 0\n",
       "carrier_code                   0\n",
       "scheduled_departure_dtl        0\n",
       "cabin_code                     0\n",
       "meal_group                 20311\n",
       "meal_category              20311\n",
       "meal_short_description         0\n",
       "meal_description           74977\n",
       "is_entree                  20311\n",
       "pre_order_qty                  0\n",
       "dtype: int64"
      ]
     },
     "execution_count": 44,
     "metadata": {},
     "output_type": "execute_result"
    }
   ],
   "source": [
    "inflightservice_preorder.isnull().sum()"
   ]
  },
  {
   "cell_type": "code",
   "execution_count": 45,
   "metadata": {
    "colab": {
     "base_uri": "https://localhost:8080/",
     "height": 577
    },
    "id": "WzP4ghPyQoLM",
    "outputId": "1e05d4f1-bb0e-429c-fd5b-c41483bc8942"
   },
   "outputs": [
    {
     "data": {
      "text/plain": [
       "<AxesSubplot:xlabel='meal_category'>"
      ]
     },
     "execution_count": 45,
     "metadata": {},
     "output_type": "execute_result"
    },
    {
     "data": {
      "image/png": "[encoded data removed]",
      "text/plain": [
       "<Figure size 432x288 with 1 Axes>"
      ]
     },
     "metadata": {
      "needs_background": "light"
     },
     "output_type": "display_data"
    }
   ],
   "source": [
    "inflightservice_preorder[\"meal_category\"].value_counts().plot(kind=\"bar\")"
   ]
  },
  {
   "cell_type": "code",
   "execution_count": 46,
   "metadata": {
    "colab": {
     "base_uri": "https://localhost:8080/",
     "height": 423
    },
    "id": "IhO-RW0yRV1W",
    "outputId": "b322c40a-3b3f-43e2-9cc7-400fe4fd8860"
   },
   "outputs": [
    {
     "data": {
      "text/plain": [
       "<AxesSubplot:ylabel='count'>"
      ]
     },
     "execution_count": 46,
     "metadata": {},
     "output_type": "execute_result"
    },
    {
     "data": {
      "image/png": "[encoded data removed]",
      "text/plain": [
       "<Figure size 432x288 with 1 Axes>"
      ]
     },
     "metadata": {},
     "output_type": "display_data"
    }
   ],
   "source": [
    "inflightservice_preorder[\"is_entree\"].value_counts().plot(kind=\"pie\",autopct='%0.1f%%')"
   ]
  },
  {
   "cell_type": "code",
   "execution_count": 47,
   "metadata": {
    "colab": {
     "base_uri": "https://localhost:8080/",
     "height": 423
    },
    "id": "y5Ld-b5PlV38",
    "outputId": "cf657fdf-0447-48c1-afdf-059b5d9050c1"
   },
   "outputs": [
    {
     "data": {
      "text/plain": [
       "<AxesSubplot:ylabel='count'>"
      ]
     },
     "execution_count": 47,
     "metadata": {},
     "output_type": "execute_result"
    },
    {
     "data": {
      "image/png": "[encoded data removed]",
      "text/plain": [
       "<Figure size 432x288 with 1 Axes>"
      ]
     },
     "metadata": {},
     "output_type": "display_data"
    }
   ],
   "source": [
    "inflightservice_preorder[\"cabin_code\"].value_counts().plot(kind=\"pie\",autopct='%0.1f%%')"
   ]
  },
  {
   "cell_type": "code",
   "execution_count": 48,
   "metadata": {
    "colab": {
     "base_uri": "https://localhost:8080/",
     "height": 656
    },
    "id": "SxXVPodETf72",
    "outputId": "2069b1f3-69b4-478b-f2e5-3c4afefe3d78"
   },
   "outputs": [
    {
     "data": {
      "text/plain": [
       "<AxesSubplot:xlabel='meal_group'>"
      ]
     },
     "execution_count": 48,
     "metadata": {},
     "output_type": "execute_result"
    },
    {
     "data": {
      "image/png": "[encoded data removed]",
      "text/plain": [
       "<Figure size 432x288 with 1 Axes>"
      ]
     },
     "metadata": {
      "needs_background": "light"
     },
     "output_type": "display_data"
    }
   ],
   "source": [
    "inflightservice_preorder[\"meal_group\"].value_counts().plot(kind=\"bar\")"
   ]
  },
  {
   "cell_type": "code",
   "execution_count": 49,
   "metadata": {
    "colab": {
     "base_uri": "https://localhost:8080/",
     "height": 516
    },
    "id": "y26iA98PT7FC",
    "outputId": "85e2fbee-face-44a8-bcfb-c32c1aac6d16"
   },
   "outputs": [
    {
     "data": {
      "text/html": [
       "<div>\n",
       "<style scoped>\n",
       "    .dataframe tbody tr th:only-of-type {\n",
       "        vertical-align: middle;\n",
       "    }\n",
       "\n",
       "    .dataframe tbody tr th {\n",
       "        vertical-align: top;\n",
       "    }\n",
       "\n",
       "    .dataframe thead th {\n",
       "        text-align: right;\n",
       "    }\n",
       "</style>\n",
       "<table border=\"1\" class=\"dataframe\">\n",
       "  <thead>\n",
       "    <tr style=\"text-align: right;\">\n",
       "      <th></th>\n",
       "      <th>flight_number</th>\n",
       "      <th>origin_station_code</th>\n",
       "      <th>destination_station_code</th>\n",
       "      <th>record_locator_x</th>\n",
       "      <th>scheduled_departure_date</th>\n",
       "      <th>question_text</th>\n",
       "      <th>score</th>\n",
       "      <th>satisfaction_type</th>\n",
       "      <th>driver_sub_group1</th>\n",
       "      <th>driver_sub_group2</th>\n",
       "      <th>...</th>\n",
       "      <th>record_locator_y</th>\n",
       "      <th>carrier_code</th>\n",
       "      <th>scheduled_departure_dtl</th>\n",
       "      <th>cabin_code</th>\n",
       "      <th>meal_group</th>\n",
       "      <th>meal_category</th>\n",
       "      <th>meal_short_description</th>\n",
       "      <th>meal_description</th>\n",
       "      <th>is_entree</th>\n",
       "      <th>pre_order_qty</th>\n",
       "    </tr>\n",
       "  </thead>\n",
       "  <tbody>\n",
       "    <tr>\n",
       "      <th>0</th>\n",
       "      <td>671</td>\n",
       "      <td>DEX</td>\n",
       "      <td>COX</td>\n",
       "      <td>KZXXH5</td>\n",
       "      <td>9/1/2022</td>\n",
       "      <td>How satisfied were you with the food &amp; beverag...</td>\n",
       "      <td>5</td>\n",
       "      <td>Satisfied</td>\n",
       "      <td>food &amp; beverage</td>\n",
       "      <td>food and beverage satisfaction</td>\n",
       "      <td>...</td>\n",
       "      <td>C3XXQF</td>\n",
       "      <td>UA</td>\n",
       "      <td>9/5/2022</td>\n",
       "      <td>J</td>\n",
       "      <td>ENTREES HOT</td>\n",
       "      <td>VEGETARIAN</td>\n",
       "      <td>Mediterranean Falafel Bowl</td>\n",
       "      <td>Mediterranean Falafel Bowl</td>\n",
       "      <td>Y</td>\n",
       "      <td>1</td>\n",
       "    </tr>\n",
       "    <tr>\n",
       "      <th>1</th>\n",
       "      <td>671</td>\n",
       "      <td>DEX</td>\n",
       "      <td>COX</td>\n",
       "      <td>KZXXH5</td>\n",
       "      <td>9/1/2022</td>\n",
       "      <td>How satisfied were you with the food &amp; beverag...</td>\n",
       "      <td>5</td>\n",
       "      <td>Satisfied</td>\n",
       "      <td>food &amp; beverage</td>\n",
       "      <td>food and beverage satisfaction</td>\n",
       "      <td>...</td>\n",
       "      <td>AFXXT9</td>\n",
       "      <td>UA</td>\n",
       "      <td>9/5/2022</td>\n",
       "      <td>J</td>\n",
       "      <td>NaN</td>\n",
       "      <td>NaN</td>\n",
       "      <td>I do not want to eat</td>\n",
       "      <td>NaN</td>\n",
       "      <td>NaN</td>\n",
       "      <td>0</td>\n",
       "    </tr>\n",
       "    <tr>\n",
       "      <th>2</th>\n",
       "      <td>671</td>\n",
       "      <td>DEX</td>\n",
       "      <td>COX</td>\n",
       "      <td>KZXXH5</td>\n",
       "      <td>9/1/2022</td>\n",
       "      <td>How satisfied were you with the food &amp; beverag...</td>\n",
       "      <td>5</td>\n",
       "      <td>Satisfied</td>\n",
       "      <td>food &amp; beverage</td>\n",
       "      <td>food and beverage satisfaction</td>\n",
       "      <td>...</td>\n",
       "      <td>PZXXHV</td>\n",
       "      <td>UA</td>\n",
       "      <td>9/5/2022</td>\n",
       "      <td>J</td>\n",
       "      <td>ENTREES HOT</td>\n",
       "      <td>BEEF/VEAL</td>\n",
       "      <td>Brioche cheeseburger</td>\n",
       "      <td>Brioche burger with bistro sauce</td>\n",
       "      <td>Y</td>\n",
       "      <td>3</td>\n",
       "    </tr>\n",
       "    <tr>\n",
       "      <th>3</th>\n",
       "      <td>671</td>\n",
       "      <td>DEX</td>\n",
       "      <td>COX</td>\n",
       "      <td>KZXXH5</td>\n",
       "      <td>9/1/2022</td>\n",
       "      <td>How satisfied were you with the food &amp; beverag...</td>\n",
       "      <td>5</td>\n",
       "      <td>Satisfied</td>\n",
       "      <td>food &amp; beverage</td>\n",
       "      <td>food and beverage satisfaction</td>\n",
       "      <td>...</td>\n",
       "      <td>EMXXB1</td>\n",
       "      <td>UA</td>\n",
       "      <td>9/5/2022</td>\n",
       "      <td>J</td>\n",
       "      <td>NaN</td>\n",
       "      <td>NaN</td>\n",
       "      <td>I will decide onboard</td>\n",
       "      <td>NaN</td>\n",
       "      <td>NaN</td>\n",
       "      <td>0</td>\n",
       "    </tr>\n",
       "    <tr>\n",
       "      <th>4</th>\n",
       "      <td>671</td>\n",
       "      <td>DEX</td>\n",
       "      <td>COX</td>\n",
       "      <td>JZXX0B</td>\n",
       "      <td>9/8/2022</td>\n",
       "      <td>How satisfied were you with the food &amp; beverag...</td>\n",
       "      <td>1</td>\n",
       "      <td>Dissatisfied</td>\n",
       "      <td>food &amp; beverage</td>\n",
       "      <td>food and beverage satisfaction</td>\n",
       "      <td>...</td>\n",
       "      <td>C3XXQF</td>\n",
       "      <td>UA</td>\n",
       "      <td>9/5/2022</td>\n",
       "      <td>J</td>\n",
       "      <td>ENTREES HOT</td>\n",
       "      <td>VEGETARIAN</td>\n",
       "      <td>Mediterranean Falafel Bowl</td>\n",
       "      <td>Mediterranean Falafel Bowl</td>\n",
       "      <td>Y</td>\n",
       "      <td>1</td>\n",
       "    </tr>\n",
       "  </tbody>\n",
       "</table>\n",
       "<p>5 rows × 43 columns</p>\n",
       "</div>"
      ],
      "text/plain": [
       "   flight_number origin_station_code destination_station_code  \\\n",
       "0            671                 DEX                      COX   \n",
       "1            671                 DEX                      COX   \n",
       "2            671                 DEX                      COX   \n",
       "3            671                 DEX                      COX   \n",
       "4            671                 DEX                      COX   \n",
       "\n",
       "  record_locator_x scheduled_departure_date  \\\n",
       "0           KZXXH5                 9/1/2022   \n",
       "1           KZXXH5                 9/1/2022   \n",
       "2           KZXXH5                 9/1/2022   \n",
       "3           KZXXH5                 9/1/2022   \n",
       "4           JZXX0B                 9/8/2022   \n",
       "\n",
       "                                       question_text score satisfaction_type  \\\n",
       "0  How satisfied were you with the food & beverag...     5         Satisfied   \n",
       "1  How satisfied were you with the food & beverag...     5         Satisfied   \n",
       "2  How satisfied were you with the food & beverag...     5         Satisfied   \n",
       "3  How satisfied were you with the food & beverag...     5         Satisfied   \n",
       "4  How satisfied were you with the food & beverag...     1      Dissatisfied   \n",
       "\n",
       "  driver_sub_group1               driver_sub_group2  ...  record_locator_y  \\\n",
       "0   food & beverage  food and beverage satisfaction  ...            C3XXQF   \n",
       "1   food & beverage  food and beverage satisfaction  ...            AFXXT9   \n",
       "2   food & beverage  food and beverage satisfaction  ...            PZXXHV   \n",
       "3   food & beverage  food and beverage satisfaction  ...            EMXXB1   \n",
       "4   food & beverage  food and beverage satisfaction  ...            C3XXQF   \n",
       "\n",
       "  carrier_code scheduled_departure_dtl cabin_code   meal_group  meal_category  \\\n",
       "0           UA                9/5/2022          J  ENTREES HOT     VEGETARIAN   \n",
       "1           UA                9/5/2022          J          NaN            NaN   \n",
       "2           UA                9/5/2022          J  ENTREES HOT      BEEF/VEAL   \n",
       "3           UA                9/5/2022          J          NaN            NaN   \n",
       "4           UA                9/5/2022          J  ENTREES HOT     VEGETARIAN   \n",
       "\n",
       "       meal_short_description                  meal_description is_entree  \\\n",
       "0  Mediterranean Falafel Bowl        Mediterranean Falafel Bowl         Y   \n",
       "1        I do not want to eat                               NaN       NaN   \n",
       "2        Brioche cheeseburger  Brioche burger with bistro sauce         Y   \n",
       "3       I will decide onboard                               NaN       NaN   \n",
       "4  Mediterranean Falafel Bowl        Mediterranean Falafel Bowl         Y   \n",
       "\n",
       "  pre_order_qty  \n",
       "0             1  \n",
       "1             0  \n",
       "2             3  \n",
       "3             0  \n",
       "4             1  \n",
       "\n",
       "[5 rows x 43 columns]"
      ]
     },
     "execution_count": 49,
     "metadata": {},
     "output_type": "execute_result"
    }
   ],
   "source": [
    "preorder_satisfaction = surverydata_inflightsatisfaction.merge(inflightservice_preorder, on=\"flight_number\")\n",
    "preorder_satisfaction.head()"
   ]
  },
  {
   "cell_type": "code",
   "execution_count": 50,
   "metadata": {
    "colab": {
     "base_uri": "https://localhost:8080/"
    },
    "id": "kFelqb5Dmo7N",
    "outputId": "19e4ef43-2d43-4b49-8292-ec855941448e"
   },
   "outputs": [
    {
     "data": {
      "text/plain": [
       "(3638547, 43)"
      ]
     },
     "execution_count": 50,
     "metadata": {},
     "output_type": "execute_result"
    }
   ],
   "source": [
    "preorder_satisfaction.shape"
   ]
  },
  {
   "cell_type": "code",
   "execution_count": 51,
   "metadata": {
    "colab": {
     "base_uri": "https://localhost:8080/",
     "height": 206
    },
    "id": "6onbSLb0mWPf",
    "outputId": "812c3bab-0c06-46ae-e105-7a128fb66afc"
   },
   "outputs": [
    {
     "data": {
      "text/html": [
       "<div>\n",
       "<style scoped>\n",
       "    .dataframe tbody tr th:only-of-type {\n",
       "        vertical-align: middle;\n",
       "    }\n",
       "\n",
       "    .dataframe tbody tr th {\n",
       "        vertical-align: top;\n",
       "    }\n",
       "\n",
       "    .dataframe thead th {\n",
       "        text-align: right;\n",
       "    }\n",
       "</style>\n",
       "<table border=\"1\" class=\"dataframe\">\n",
       "  <thead>\n",
       "    <tr style=\"text-align: right;\">\n",
       "      <th></th>\n",
       "      <th>count</th>\n",
       "      <th>mean</th>\n",
       "      <th>std</th>\n",
       "      <th>min</th>\n",
       "      <th>25%</th>\n",
       "      <th>50%</th>\n",
       "      <th>75%</th>\n",
       "      <th>max</th>\n",
       "    </tr>\n",
       "  </thead>\n",
       "  <tbody>\n",
       "    <tr>\n",
       "      <th>flight_number</th>\n",
       "      <td>3638547.0</td>\n",
       "      <td>1375.421775</td>\n",
       "      <td>753.815689</td>\n",
       "      <td>2.0</td>\n",
       "      <td>639.0</td>\n",
       "      <td>1477.0</td>\n",
       "      <td>2030.0</td>\n",
       "      <td>2685.0</td>\n",
       "    </tr>\n",
       "    <tr>\n",
       "      <th>arrival_delay_minutes</th>\n",
       "      <td>3638547.0</td>\n",
       "      <td>-4.454845</td>\n",
       "      <td>31.327784</td>\n",
       "      <td>-104.0</td>\n",
       "      <td>-19.0</td>\n",
       "      <td>-10.0</td>\n",
       "      <td>1.0</td>\n",
       "      <td>853.0</td>\n",
       "    </tr>\n",
       "    <tr>\n",
       "      <th>number_of_legs</th>\n",
       "      <td>3638547.0</td>\n",
       "      <td>1.323130</td>\n",
       "      <td>0.492452</td>\n",
       "      <td>1.0</td>\n",
       "      <td>1.0</td>\n",
       "      <td>1.0</td>\n",
       "      <td>2.0</td>\n",
       "      <td>3.0</td>\n",
       "    </tr>\n",
       "    <tr>\n",
       "      <th>actual_flown_miles</th>\n",
       "      <td>3638547.0</td>\n",
       "      <td>1903.249199</td>\n",
       "      <td>1024.065880</td>\n",
       "      <td>72.0</td>\n",
       "      <td>1086.0</td>\n",
       "      <td>1721.0</td>\n",
       "      <td>2419.0</td>\n",
       "      <td>8440.0</td>\n",
       "    </tr>\n",
       "    <tr>\n",
       "      <th>pre_order_qty</th>\n",
       "      <td>3638547.0</td>\n",
       "      <td>1.207150</td>\n",
       "      <td>0.851761</td>\n",
       "      <td>0.0</td>\n",
       "      <td>1.0</td>\n",
       "      <td>1.0</td>\n",
       "      <td>1.0</td>\n",
       "      <td>44.0</td>\n",
       "    </tr>\n",
       "  </tbody>\n",
       "</table>\n",
       "</div>"
      ],
      "text/plain": [
       "                           count         mean          std    min     25%  \\\n",
       "flight_number          3638547.0  1375.421775   753.815689    2.0   639.0   \n",
       "arrival_delay_minutes  3638547.0    -4.454845    31.327784 -104.0   -19.0   \n",
       "number_of_legs         3638547.0     1.323130     0.492452    1.0     1.0   \n",
       "actual_flown_miles     3638547.0  1903.249199  1024.065880   72.0  1086.0   \n",
       "pre_order_qty          3638547.0     1.207150     0.851761    0.0     1.0   \n",
       "\n",
       "                          50%     75%     max  \n",
       "flight_number          1477.0  2030.0  2685.0  \n",
       "arrival_delay_minutes   -10.0     1.0   853.0  \n",
       "number_of_legs            1.0     2.0     3.0  \n",
       "actual_flown_miles     1721.0  2419.0  8440.0  \n",
       "pre_order_qty             1.0     1.0    44.0  "
      ]
     },
     "execution_count": 51,
     "metadata": {},
     "output_type": "execute_result"
    }
   ],
   "source": [
    "preorder_satisfaction.describe().T"
   ]
  },
  {
   "cell_type": "code",
   "execution_count": 52,
   "metadata": {
    "colab": {
     "base_uri": "https://localhost:8080/",
     "height": 843
    },
    "id": "GC1sSkoMm5rs",
    "outputId": "85986325-c7c8-42b5-e8db-b830d155acf1"
   },
   "outputs": [
    {
     "data": {
      "text/html": [
       "<div>\n",
       "<style scoped>\n",
       "    .dataframe tbody tr th:only-of-type {\n",
       "        vertical-align: middle;\n",
       "    }\n",
       "\n",
       "    .dataframe tbody tr th {\n",
       "        vertical-align: top;\n",
       "    }\n",
       "\n",
       "    .dataframe thead th {\n",
       "        text-align: right;\n",
       "    }\n",
       "</style>\n",
       "<table border=\"1\" class=\"dataframe\">\n",
       "  <thead>\n",
       "    <tr style=\"text-align: right;\">\n",
       "      <th></th>\n",
       "      <th>flight_number</th>\n",
       "      <th>origin_station_code</th>\n",
       "      <th>destination_station_code</th>\n",
       "      <th>record_locator_x</th>\n",
       "      <th>scheduled_departure_date</th>\n",
       "      <th>question_text</th>\n",
       "      <th>score</th>\n",
       "      <th>satisfaction_type</th>\n",
       "      <th>driver_sub_group1</th>\n",
       "      <th>driver_sub_group2</th>\n",
       "      <th>...</th>\n",
       "      <th>record_locator_y</th>\n",
       "      <th>carrier_code</th>\n",
       "      <th>scheduled_departure_dtl</th>\n",
       "      <th>cabin_code</th>\n",
       "      <th>meal_group</th>\n",
       "      <th>meal_category</th>\n",
       "      <th>meal_short_description</th>\n",
       "      <th>meal_description</th>\n",
       "      <th>is_entree</th>\n",
       "      <th>pre_order_qty</th>\n",
       "    </tr>\n",
       "  </thead>\n",
       "  <tbody>\n",
       "    <tr>\n",
       "      <th>0</th>\n",
       "      <td>671</td>\n",
       "      <td>DEX</td>\n",
       "      <td>COX</td>\n",
       "      <td>KZXXH5</td>\n",
       "      <td>9/1/2022</td>\n",
       "      <td>How satisfied were you with the food &amp; beverag...</td>\n",
       "      <td>5</td>\n",
       "      <td>Satisfied</td>\n",
       "      <td>food &amp; beverage</td>\n",
       "      <td>food and beverage satisfaction</td>\n",
       "      <td>...</td>\n",
       "      <td>C3XXQF</td>\n",
       "      <td>UA</td>\n",
       "      <td>9/5/2022</td>\n",
       "      <td>J</td>\n",
       "      <td>ENTREES HOT</td>\n",
       "      <td>VEGETARIAN</td>\n",
       "      <td>Mediterranean Falafel Bowl</td>\n",
       "      <td>Mediterranean Falafel Bowl</td>\n",
       "      <td>Y</td>\n",
       "      <td>1</td>\n",
       "    </tr>\n",
       "    <tr>\n",
       "      <th>1</th>\n",
       "      <td>671</td>\n",
       "      <td>DEX</td>\n",
       "      <td>COX</td>\n",
       "      <td>KZXXH5</td>\n",
       "      <td>9/1/2022</td>\n",
       "      <td>How satisfied were you with the food &amp; beverag...</td>\n",
       "      <td>5</td>\n",
       "      <td>Satisfied</td>\n",
       "      <td>food &amp; beverage</td>\n",
       "      <td>food and beverage satisfaction</td>\n",
       "      <td>...</td>\n",
       "      <td>AFXXT9</td>\n",
       "      <td>UA</td>\n",
       "      <td>9/5/2022</td>\n",
       "      <td>J</td>\n",
       "      <td>NaN</td>\n",
       "      <td>NaN</td>\n",
       "      <td>I do not want to eat</td>\n",
       "      <td>NaN</td>\n",
       "      <td>NaN</td>\n",
       "      <td>0</td>\n",
       "    </tr>\n",
       "    <tr>\n",
       "      <th>2</th>\n",
       "      <td>671</td>\n",
       "      <td>DEX</td>\n",
       "      <td>COX</td>\n",
       "      <td>KZXXH5</td>\n",
       "      <td>9/1/2022</td>\n",
       "      <td>How satisfied were you with the food &amp; beverag...</td>\n",
       "      <td>5</td>\n",
       "      <td>Satisfied</td>\n",
       "      <td>food &amp; beverage</td>\n",
       "      <td>food and beverage satisfaction</td>\n",
       "      <td>...</td>\n",
       "      <td>PZXXHV</td>\n",
       "      <td>UA</td>\n",
       "      <td>9/5/2022</td>\n",
       "      <td>J</td>\n",
       "      <td>ENTREES HOT</td>\n",
       "      <td>BEEF/VEAL</td>\n",
       "      <td>Brioche cheeseburger</td>\n",
       "      <td>Brioche burger with bistro sauce</td>\n",
       "      <td>Y</td>\n",
       "      <td>3</td>\n",
       "    </tr>\n",
       "    <tr>\n",
       "      <th>3</th>\n",
       "      <td>671</td>\n",
       "      <td>DEX</td>\n",
       "      <td>COX</td>\n",
       "      <td>KZXXH5</td>\n",
       "      <td>9/1/2022</td>\n",
       "      <td>How satisfied were you with the food &amp; beverag...</td>\n",
       "      <td>5</td>\n",
       "      <td>Satisfied</td>\n",
       "      <td>food &amp; beverage</td>\n",
       "      <td>food and beverage satisfaction</td>\n",
       "      <td>...</td>\n",
       "      <td>EMXXB1</td>\n",
       "      <td>UA</td>\n",
       "      <td>9/5/2022</td>\n",
       "      <td>J</td>\n",
       "      <td>NaN</td>\n",
       "      <td>NaN</td>\n",
       "      <td>I will decide onboard</td>\n",
       "      <td>NaN</td>\n",
       "      <td>NaN</td>\n",
       "      <td>0</td>\n",
       "    </tr>\n",
       "    <tr>\n",
       "      <th>4</th>\n",
       "      <td>671</td>\n",
       "      <td>DEX</td>\n",
       "      <td>COX</td>\n",
       "      <td>JZXX0B</td>\n",
       "      <td>9/8/2022</td>\n",
       "      <td>How satisfied were you with the food &amp; beverag...</td>\n",
       "      <td>1</td>\n",
       "      <td>Dissatisfied</td>\n",
       "      <td>food &amp; beverage</td>\n",
       "      <td>food and beverage satisfaction</td>\n",
       "      <td>...</td>\n",
       "      <td>C3XXQF</td>\n",
       "      <td>UA</td>\n",
       "      <td>9/5/2022</td>\n",
       "      <td>J</td>\n",
       "      <td>ENTREES HOT</td>\n",
       "      <td>VEGETARIAN</td>\n",
       "      <td>Mediterranean Falafel Bowl</td>\n",
       "      <td>Mediterranean Falafel Bowl</td>\n",
       "      <td>Y</td>\n",
       "      <td>1</td>\n",
       "    </tr>\n",
       "    <tr>\n",
       "      <th>...</th>\n",
       "      <td>...</td>\n",
       "      <td>...</td>\n",
       "      <td>...</td>\n",
       "      <td>...</td>\n",
       "      <td>...</td>\n",
       "      <td>...</td>\n",
       "      <td>...</td>\n",
       "      <td>...</td>\n",
       "      <td>...</td>\n",
       "      <td>...</td>\n",
       "      <td>...</td>\n",
       "      <td>...</td>\n",
       "      <td>...</td>\n",
       "      <td>...</td>\n",
       "      <td>...</td>\n",
       "      <td>...</td>\n",
       "      <td>...</td>\n",
       "      <td>...</td>\n",
       "      <td>...</td>\n",
       "      <td>...</td>\n",
       "      <td>...</td>\n",
       "    </tr>\n",
       "    <tr>\n",
       "      <th>3638542</th>\n",
       "      <td>1550</td>\n",
       "      <td>ORX</td>\n",
       "      <td>PSX</td>\n",
       "      <td>BEXXKY</td>\n",
       "      <td>9/30/2022</td>\n",
       "      <td>What item did you choose?</td>\n",
       "      <td>other (specify)</td>\n",
       "      <td>NaN</td>\n",
       "      <td>food &amp; beverage</td>\n",
       "      <td>comp</td>\n",
       "      <td>...</td>\n",
       "      <td>MLXXQQ</td>\n",
       "      <td>UA</td>\n",
       "      <td>9/3/2022</td>\n",
       "      <td>J</td>\n",
       "      <td>ENTREES HOT</td>\n",
       "      <td>VEGETARIAN</td>\n",
       "      <td>Mediterranean Falafel Bowl</td>\n",
       "      <td>Mediterranean Falafel Bowl</td>\n",
       "      <td>Y</td>\n",
       "      <td>2</td>\n",
       "    </tr>\n",
       "    <tr>\n",
       "      <th>3638543</th>\n",
       "      <td>1550</td>\n",
       "      <td>ORX</td>\n",
       "      <td>PSX</td>\n",
       "      <td>BEXXKY</td>\n",
       "      <td>9/30/2022</td>\n",
       "      <td>What item did you choose?</td>\n",
       "      <td>other (specify)</td>\n",
       "      <td>NaN</td>\n",
       "      <td>food &amp; beverage</td>\n",
       "      <td>comp</td>\n",
       "      <td>...</td>\n",
       "      <td>G8XXKQ</td>\n",
       "      <td>UA</td>\n",
       "      <td>9/30/2022</td>\n",
       "      <td>J</td>\n",
       "      <td>ENTREES HOT</td>\n",
       "      <td>BREAKFAST</td>\n",
       "      <td>Scrambled eggs</td>\n",
       "      <td>Scrambled eggs with ham, onion and peppers</td>\n",
       "      <td>Y</td>\n",
       "      <td>1</td>\n",
       "    </tr>\n",
       "    <tr>\n",
       "      <th>3638544</th>\n",
       "      <td>1550</td>\n",
       "      <td>ORX</td>\n",
       "      <td>PSX</td>\n",
       "      <td>BEXXKY</td>\n",
       "      <td>9/30/2022</td>\n",
       "      <td>What item did you choose?</td>\n",
       "      <td>other (specify)</td>\n",
       "      <td>NaN</td>\n",
       "      <td>food &amp; beverage</td>\n",
       "      <td>comp</td>\n",
       "      <td>...</td>\n",
       "      <td>M8XX48</td>\n",
       "      <td>UA</td>\n",
       "      <td>9/4/2022</td>\n",
       "      <td>J</td>\n",
       "      <td>ENTREES HOT</td>\n",
       "      <td>VEGETARIAN</td>\n",
       "      <td>Vegetarian chili and polenta cake</td>\n",
       "      <td>NaN</td>\n",
       "      <td>Y</td>\n",
       "      <td>2</td>\n",
       "    </tr>\n",
       "    <tr>\n",
       "      <th>3638545</th>\n",
       "      <td>1550</td>\n",
       "      <td>ORX</td>\n",
       "      <td>PSX</td>\n",
       "      <td>BEXXKY</td>\n",
       "      <td>9/30/2022</td>\n",
       "      <td>What item did you choose?</td>\n",
       "      <td>other (specify)</td>\n",
       "      <td>NaN</td>\n",
       "      <td>food &amp; beverage</td>\n",
       "      <td>comp</td>\n",
       "      <td>...</td>\n",
       "      <td>HMXXQP</td>\n",
       "      <td>UA</td>\n",
       "      <td>9/30/2022</td>\n",
       "      <td>J</td>\n",
       "      <td>ENTREES HOT</td>\n",
       "      <td>BREAKFAST</td>\n",
       "      <td>Scrambled eggs</td>\n",
       "      <td>Scrambled eggs with ham, onion and peppers</td>\n",
       "      <td>Y</td>\n",
       "      <td>1</td>\n",
       "    </tr>\n",
       "    <tr>\n",
       "      <th>3638546</th>\n",
       "      <td>1550</td>\n",
       "      <td>ORX</td>\n",
       "      <td>PSX</td>\n",
       "      <td>BEXXKY</td>\n",
       "      <td>9/30/2022</td>\n",
       "      <td>What item did you choose?</td>\n",
       "      <td>other (specify)</td>\n",
       "      <td>NaN</td>\n",
       "      <td>food &amp; beverage</td>\n",
       "      <td>comp</td>\n",
       "      <td>...</td>\n",
       "      <td>BEXXKY</td>\n",
       "      <td>UA</td>\n",
       "      <td>9/30/2022</td>\n",
       "      <td>J</td>\n",
       "      <td>ENTREES HOT</td>\n",
       "      <td>BREAKFAST</td>\n",
       "      <td>Tomato and kale baked egg</td>\n",
       "      <td>Tomato and kale baked egg with fire roasted re...</td>\n",
       "      <td>Y</td>\n",
       "      <td>1</td>\n",
       "    </tr>\n",
       "  </tbody>\n",
       "</table>\n",
       "<p>3638547 rows × 43 columns</p>\n",
       "</div>"
      ],
      "text/plain": [
       "         flight_number origin_station_code destination_station_code  \\\n",
       "0                  671                 DEX                      COX   \n",
       "1                  671                 DEX                      COX   \n",
       "2                  671                 DEX                      COX   \n",
       "3                  671                 DEX                      COX   \n",
       "4                  671                 DEX                      COX   \n",
       "...                ...                 ...                      ...   \n",
       "3638542           1550                 ORX                      PSX   \n",
       "3638543           1550                 ORX                      PSX   \n",
       "3638544           1550                 ORX                      PSX   \n",
       "3638545           1550                 ORX                      PSX   \n",
       "3638546           1550                 ORX                      PSX   \n",
       "\n",
       "        record_locator_x scheduled_departure_date  \\\n",
       "0                 KZXXH5                 9/1/2022   \n",
       "1                 KZXXH5                 9/1/2022   \n",
       "2                 KZXXH5                 9/1/2022   \n",
       "3                 KZXXH5                 9/1/2022   \n",
       "4                 JZXX0B                 9/8/2022   \n",
       "...                  ...                      ...   \n",
       "3638542           BEXXKY                9/30/2022   \n",
       "3638543           BEXXKY                9/30/2022   \n",
       "3638544           BEXXKY                9/30/2022   \n",
       "3638545           BEXXKY                9/30/2022   \n",
       "3638546           BEXXKY                9/30/2022   \n",
       "\n",
       "                                             question_text            score  \\\n",
       "0        How satisfied were you with the food & beverag...                5   \n",
       "1        How satisfied were you with the food & beverag...                5   \n",
       "2        How satisfied were you with the food & beverag...                5   \n",
       "3        How satisfied were you with the food & beverag...                5   \n",
       "4        How satisfied were you with the food & beverag...                1   \n",
       "...                                                    ...              ...   \n",
       "3638542                          What item did you choose?  other (specify)   \n",
       "3638543                          What item did you choose?  other (specify)   \n",
       "3638544                          What item did you choose?  other (specify)   \n",
       "3638545                          What item did you choose?  other (specify)   \n",
       "3638546                          What item did you choose?  other (specify)   \n",
       "\n",
       "        satisfaction_type driver_sub_group1               driver_sub_group2  \\\n",
       "0               Satisfied   food & beverage  food and beverage satisfaction   \n",
       "1               Satisfied   food & beverage  food and beverage satisfaction   \n",
       "2               Satisfied   food & beverage  food and beverage satisfaction   \n",
       "3               Satisfied   food & beverage  food and beverage satisfaction   \n",
       "4            Dissatisfied   food & beverage  food and beverage satisfaction   \n",
       "...                   ...               ...                             ...   \n",
       "3638542               NaN   food & beverage                            comp   \n",
       "3638543               NaN   food & beverage                            comp   \n",
       "3638544               NaN   food & beverage                            comp   \n",
       "3638545               NaN   food & beverage                            comp   \n",
       "3638546               NaN   food & beverage                            comp   \n",
       "\n",
       "         ...  record_locator_y carrier_code scheduled_departure_dtl  \\\n",
       "0        ...            C3XXQF           UA                9/5/2022   \n",
       "1        ...            AFXXT9           UA                9/5/2022   \n",
       "2        ...            PZXXHV           UA                9/5/2022   \n",
       "3        ...            EMXXB1           UA                9/5/2022   \n",
       "4        ...            C3XXQF           UA                9/5/2022   \n",
       "...      ...               ...          ...                     ...   \n",
       "3638542  ...            MLXXQQ           UA                9/3/2022   \n",
       "3638543  ...            G8XXKQ           UA               9/30/2022   \n",
       "3638544  ...            M8XX48           UA                9/4/2022   \n",
       "3638545  ...            HMXXQP           UA               9/30/2022   \n",
       "3638546  ...            BEXXKY           UA               9/30/2022   \n",
       "\n",
       "        cabin_code   meal_group  meal_category  \\\n",
       "0                J  ENTREES HOT     VEGETARIAN   \n",
       "1                J          NaN            NaN   \n",
       "2                J  ENTREES HOT      BEEF/VEAL   \n",
       "3                J          NaN            NaN   \n",
       "4                J  ENTREES HOT     VEGETARIAN   \n",
       "...            ...          ...            ...   \n",
       "3638542          J  ENTREES HOT     VEGETARIAN   \n",
       "3638543          J  ENTREES HOT      BREAKFAST   \n",
       "3638544          J  ENTREES HOT     VEGETARIAN   \n",
       "3638545          J  ENTREES HOT      BREAKFAST   \n",
       "3638546          J  ENTREES HOT      BREAKFAST   \n",
       "\n",
       "                    meal_short_description  \\\n",
       "0               Mediterranean Falafel Bowl   \n",
       "1                     I do not want to eat   \n",
       "2                     Brioche cheeseburger   \n",
       "3                    I will decide onboard   \n",
       "4               Mediterranean Falafel Bowl   \n",
       "...                                    ...   \n",
       "3638542         Mediterranean Falafel Bowl   \n",
       "3638543                     Scrambled eggs   \n",
       "3638544  Vegetarian chili and polenta cake   \n",
       "3638545                     Scrambled eggs   \n",
       "3638546          Tomato and kale baked egg   \n",
       "\n",
       "                                          meal_description is_entree  \\\n",
       "0                               Mediterranean Falafel Bowl         Y   \n",
       "1                                                      NaN       NaN   \n",
       "2                         Brioche burger with bistro sauce         Y   \n",
       "3                                                      NaN       NaN   \n",
       "4                               Mediterranean Falafel Bowl         Y   \n",
       "...                                                    ...       ...   \n",
       "3638542                         Mediterranean Falafel Bowl         Y   \n",
       "3638543         Scrambled eggs with ham, onion and peppers         Y   \n",
       "3638544                                                NaN         Y   \n",
       "3638545         Scrambled eggs with ham, onion and peppers         Y   \n",
       "3638546  Tomato and kale baked egg with fire roasted re...         Y   \n",
       "\n",
       "        pre_order_qty  \n",
       "0                   1  \n",
       "1                   0  \n",
       "2                   3  \n",
       "3                   0  \n",
       "4                   1  \n",
       "...               ...  \n",
       "3638542             2  \n",
       "3638543             1  \n",
       "3638544             2  \n",
       "3638545             1  \n",
       "3638546             1  \n",
       "\n",
       "[3638547 rows x 43 columns]"
      ]
     },
     "execution_count": 52,
     "metadata": {},
     "output_type": "execute_result"
    }
   ],
   "source": [
    "preorder_satisfaction"
   ]
  },
  {
   "cell_type": "code",
   "execution_count": 53,
   "metadata": {
    "id": "rJWAFDA8unmn"
   },
   "outputs": [],
   "source": [
    "preorder_satisfaction = preorder_satisfaction[pd.to_numeric(preorder_satisfaction[\"score\"], errors='coerce').notna()]"
   ]
  },
  {
   "cell_type": "code",
   "execution_count": 54,
   "metadata": {
    "colab": {
     "base_uri": "https://localhost:8080/"
    },
    "id": "Yr-sHJz0vOh0",
    "outputId": "7ab33b3e-401b-4983-ae20-3a7a0342df33"
   },
   "outputs": [
    {
     "name": "stderr",
     "output_type": "stream",
     "text": [
      "C:\\Users\\DELL\\AppData\\Local\\Temp\\ipykernel_6824\\1808812518.py:1: SettingWithCopyWarning: \n",
      "A value is trying to be set on a copy of a slice from a DataFrame\n",
      "\n",
      "See the caveats in the documentation: https://pandas.pydata.org/pandas-docs/stable/user_guide/indexing.html#returning-a-view-versus-a-copy\n",
      "  preorder_satisfaction[\"score\"].fillna(0,inplace=True)\n"
     ]
    }
   ],
   "source": [
    "preorder_satisfaction[\"score\"].fillna(0,inplace=True)"
   ]
  },
  {
   "cell_type": "code",
   "execution_count": 55,
   "metadata": {
    "colab": {
     "base_uri": "https://localhost:8080/"
    },
    "id": "UKNZrcv3wLOv",
    "outputId": "163b6188-4f43-446e-a6dd-25049976c264"
   },
   "outputs": [
    {
     "data": {
      "text/plain": [
       "0          5\n",
       "1          5\n",
       "2          5\n",
       "3          5\n",
       "4          1\n",
       "          ..\n",
       "3638512    5\n",
       "3638513    5\n",
       "3638514    5\n",
       "3638515    5\n",
       "3638516    5\n",
       "Name: score, Length: 2730973, dtype: object"
      ]
     },
     "execution_count": 55,
     "metadata": {},
     "output_type": "execute_result"
    }
   ],
   "source": [
    "preorder_satisfaction[\"score\"]"
   ]
  },
  {
   "cell_type": "code",
   "execution_count": 56,
   "metadata": {
    "colab": {
     "base_uri": "https://localhost:8080/",
     "height": 266
    },
    "id": "aTpI5zftxLpe",
    "outputId": "353a42af-26e8-4bc7-a08b-9b93fa8dbe22"
   },
   "outputs": [
    {
     "data": {
      "text/html": [
       "<div>\n",
       "<style scoped>\n",
       "    .dataframe tbody tr th:only-of-type {\n",
       "        vertical-align: middle;\n",
       "    }\n",
       "\n",
       "    .dataframe tbody tr th {\n",
       "        vertical-align: top;\n",
       "    }\n",
       "\n",
       "    .dataframe thead th {\n",
       "        text-align: right;\n",
       "    }\n",
       "</style>\n",
       "<table border=\"1\" class=\"dataframe\">\n",
       "  <thead>\n",
       "    <tr style=\"text-align: right;\">\n",
       "      <th></th>\n",
       "      <th>flight_number</th>\n",
       "      <th>origin_station_code</th>\n",
       "      <th>destination_station_code</th>\n",
       "      <th>record_locator_x</th>\n",
       "      <th>scheduled_departure_date</th>\n",
       "      <th>question_text</th>\n",
       "      <th>score</th>\n",
       "      <th>satisfaction_type</th>\n",
       "      <th>driver_sub_group1</th>\n",
       "      <th>driver_sub_group2</th>\n",
       "      <th>...</th>\n",
       "      <th>record_locator_y</th>\n",
       "      <th>carrier_code</th>\n",
       "      <th>scheduled_departure_dtl</th>\n",
       "      <th>cabin_code</th>\n",
       "      <th>meal_group</th>\n",
       "      <th>meal_category</th>\n",
       "      <th>meal_short_description</th>\n",
       "      <th>meal_description</th>\n",
       "      <th>is_entree</th>\n",
       "      <th>pre_order_qty</th>\n",
       "    </tr>\n",
       "  </thead>\n",
       "  <tbody>\n",
       "    <tr>\n",
       "      <th>951038</th>\n",
       "      <td>425</td>\n",
       "      <td>IAX</td>\n",
       "      <td>SFX</td>\n",
       "      <td>DCXXCF</td>\n",
       "      <td>9/7/2022</td>\n",
       "      <td>How satisfied were you with the food &amp; beverag...</td>\n",
       "      <td>3</td>\n",
       "      <td>Dissatisfied</td>\n",
       "      <td>food &amp; beverage</td>\n",
       "      <td>food and beverage satisfaction</td>\n",
       "      <td>...</td>\n",
       "      <td>ASXXCE</td>\n",
       "      <td>UA</td>\n",
       "      <td>9/10/2022</td>\n",
       "      <td>Y</td>\n",
       "      <td>UNITED CATERER OWNED 88-3F</td>\n",
       "      <td>SNACKS</td>\n",
       "      <td>Takeoff</td>\n",
       "      <td>Takeoff</td>\n",
       "      <td>N</td>\n",
       "      <td>1</td>\n",
       "    </tr>\n",
       "    <tr>\n",
       "      <th>2001519</th>\n",
       "      <td>2216</td>\n",
       "      <td>EWX</td>\n",
       "      <td>LAX</td>\n",
       "      <td>AVXX0G</td>\n",
       "      <td>9/2/2022</td>\n",
       "      <td>How satisfied were you with the food &amp; beverag...</td>\n",
       "      <td>4</td>\n",
       "      <td>Satisfied</td>\n",
       "      <td>food &amp; beverage</td>\n",
       "      <td>food and beverage satisfaction</td>\n",
       "      <td>...</td>\n",
       "      <td>JVXXEQ</td>\n",
       "      <td>UA</td>\n",
       "      <td>9/2/2022</td>\n",
       "      <td>Y</td>\n",
       "      <td>ALCOHOL BEVERAGES</td>\n",
       "      <td>GENERIC INT WINE A</td>\n",
       "      <td>White Wine</td>\n",
       "      <td>White Wine 187ml</td>\n",
       "      <td>N</td>\n",
       "      <td>1</td>\n",
       "    </tr>\n",
       "  </tbody>\n",
       "</table>\n",
       "<p>2 rows × 43 columns</p>\n",
       "</div>"
      ],
      "text/plain": [
       "         flight_number origin_station_code destination_station_code  \\\n",
       "951038             425                 IAX                      SFX   \n",
       "2001519           2216                 EWX                      LAX   \n",
       "\n",
       "        record_locator_x scheduled_departure_date  \\\n",
       "951038            DCXXCF                 9/7/2022   \n",
       "2001519           AVXX0G                 9/2/2022   \n",
       "\n",
       "                                             question_text score  \\\n",
       "951038   How satisfied were you with the food & beverag...     3   \n",
       "2001519  How satisfied were you with the food & beverag...     4   \n",
       "\n",
       "        satisfaction_type driver_sub_group1               driver_sub_group2  \\\n",
       "951038       Dissatisfied   food & beverage  food and beverage satisfaction   \n",
       "2001519         Satisfied   food & beverage  food and beverage satisfaction   \n",
       "\n",
       "         ...  record_locator_y carrier_code scheduled_departure_dtl  \\\n",
       "951038   ...            ASXXCE           UA               9/10/2022   \n",
       "2001519  ...            JVXXEQ           UA                9/2/2022   \n",
       "\n",
       "        cabin_code                  meal_group       meal_category  \\\n",
       "951038           Y  UNITED CATERER OWNED 88-3F              SNACKS   \n",
       "2001519          Y           ALCOHOL BEVERAGES  GENERIC INT WINE A   \n",
       "\n",
       "        meal_short_description  meal_description is_entree pre_order_qty  \n",
       "951038                 Takeoff           Takeoff         N             1  \n",
       "2001519             White Wine  White Wine 187ml         N             1  \n",
       "\n",
       "[2 rows x 43 columns]"
      ]
     },
     "execution_count": 56,
     "metadata": {},
     "output_type": "execute_result"
    }
   ],
   "source": [
    "preorder_satisfaction.sample(2)"
   ]
  },
  {
   "cell_type": "code",
   "execution_count": 62,
   "metadata": {
    "colab": {
     "base_uri": "https://localhost:8080/"
    },
    "id": "wmMZbg_CzYAt",
    "outputId": "c010c57b-6758-477a-a796-c55b862ac146"
   },
   "outputs": [
    {
     "name": "stderr",
     "output_type": "stream",
     "text": [
      "C:\\Users\\DELL\\AppData\\Local\\Temp\\ipykernel_6824\\261862329.py:1: SettingWithCopyWarning: \n",
      "A value is trying to be set on a copy of a slice from a DataFrame.\n",
      "Try using .loc[row_indexer,col_indexer] = value instead\n",
      "\n",
      "See the caveats in the documentation: https://pandas.pydata.org/pandas-docs/stable/user_guide/indexing.html#returning-a-view-versus-a-copy\n",
      "  preorder_satisfaction[\"Prebooked_Satisfaction\"] = np.where(preorder_satisfaction[\"is_entree\"] == 'Y', 1, 0)\n"
     ]
    },
    {
     "data": {
      "text/html": [
       "<div>\n",
       "<style scoped>\n",
       "    .dataframe tbody tr th:only-of-type {\n",
       "        vertical-align: middle;\n",
       "    }\n",
       "\n",
       "    .dataframe tbody tr th {\n",
       "        vertical-align: top;\n",
       "    }\n",
       "\n",
       "    .dataframe thead th {\n",
       "        text-align: right;\n",
       "    }\n",
       "</style>\n",
       "<table border=\"1\" class=\"dataframe\">\n",
       "  <thead>\n",
       "    <tr style=\"text-align: right;\">\n",
       "      <th></th>\n",
       "      <th>flight_number</th>\n",
       "      <th>origin_station_code</th>\n",
       "      <th>destination_station_code</th>\n",
       "      <th>record_locator_x</th>\n",
       "      <th>scheduled_departure_date</th>\n",
       "      <th>question_text</th>\n",
       "      <th>score</th>\n",
       "      <th>satisfaction_type</th>\n",
       "      <th>driver_sub_group1</th>\n",
       "      <th>driver_sub_group2</th>\n",
       "      <th>...</th>\n",
       "      <th>carrier_code</th>\n",
       "      <th>scheduled_departure_dtl</th>\n",
       "      <th>cabin_code</th>\n",
       "      <th>meal_group</th>\n",
       "      <th>meal_category</th>\n",
       "      <th>meal_short_description</th>\n",
       "      <th>meal_description</th>\n",
       "      <th>is_entree</th>\n",
       "      <th>pre_order_qty</th>\n",
       "      <th>Prebooked_Satisfaction</th>\n",
       "    </tr>\n",
       "  </thead>\n",
       "  <tbody>\n",
       "    <tr>\n",
       "      <th>1929252</th>\n",
       "      <td>1252</td>\n",
       "      <td>IAX</td>\n",
       "      <td>SAX</td>\n",
       "      <td>OJXXP2</td>\n",
       "      <td>9/2/2022</td>\n",
       "      <td>How satisfied were you with the food &amp; beverag...</td>\n",
       "      <td>3</td>\n",
       "      <td>Dissatisfied</td>\n",
       "      <td>food &amp; beverage</td>\n",
       "      <td>food and beverage satisfaction</td>\n",
       "      <td>...</td>\n",
       "      <td>UA</td>\n",
       "      <td>9/5/2022</td>\n",
       "      <td>Y</td>\n",
       "      <td>UNITED CATERER OWNED 88-3F</td>\n",
       "      <td>SNACKS</td>\n",
       "      <td>Tapas</td>\n",
       "      <td>Tapas</td>\n",
       "      <td>N</td>\n",
       "      <td>1</td>\n",
       "      <td>0</td>\n",
       "    </tr>\n",
       "    <tr>\n",
       "      <th>702774</th>\n",
       "      <td>2243</td>\n",
       "      <td>ORX</td>\n",
       "      <td>LAX</td>\n",
       "      <td>I8XXY3</td>\n",
       "      <td>9/25/2022</td>\n",
       "      <td>How satisfied were you with the food &amp; beverag...</td>\n",
       "      <td>3</td>\n",
       "      <td>Dissatisfied</td>\n",
       "      <td>food &amp; beverage</td>\n",
       "      <td>food and beverage satisfaction</td>\n",
       "      <td>...</td>\n",
       "      <td>UA</td>\n",
       "      <td>9/18/2022</td>\n",
       "      <td>J</td>\n",
       "      <td>ENTREES HOT</td>\n",
       "      <td>BREAKFAST</td>\n",
       "      <td>Scrambled eggs</td>\n",
       "      <td>Scrambled eggs with ham, onion and peppers</td>\n",
       "      <td>Y</td>\n",
       "      <td>1</td>\n",
       "      <td>1</td>\n",
       "    </tr>\n",
       "  </tbody>\n",
       "</table>\n",
       "<p>2 rows × 44 columns</p>\n",
       "</div>"
      ],
      "text/plain": [
       "         flight_number origin_station_code destination_station_code  \\\n",
       "1929252           1252                 IAX                      SAX   \n",
       "702774            2243                 ORX                      LAX   \n",
       "\n",
       "        record_locator_x scheduled_departure_date  \\\n",
       "1929252           OJXXP2                 9/2/2022   \n",
       "702774            I8XXY3                9/25/2022   \n",
       "\n",
       "                                             question_text score  \\\n",
       "1929252  How satisfied were you with the food & beverag...     3   \n",
       "702774   How satisfied were you with the food & beverag...     3   \n",
       "\n",
       "        satisfaction_type driver_sub_group1               driver_sub_group2  \\\n",
       "1929252      Dissatisfied   food & beverage  food and beverage satisfaction   \n",
       "702774       Dissatisfied   food & beverage  food and beverage satisfaction   \n",
       "\n",
       "         ...  carrier_code scheduled_departure_dtl cabin_code  \\\n",
       "1929252  ...            UA                9/5/2022          Y   \n",
       "702774   ...            UA               9/18/2022          J   \n",
       "\n",
       "                         meal_group meal_category  meal_short_description  \\\n",
       "1929252  UNITED CATERER OWNED 88-3F        SNACKS                   Tapas   \n",
       "702774                  ENTREES HOT     BREAKFAST          Scrambled eggs   \n",
       "\n",
       "                                   meal_description is_entree pre_order_qty  \\\n",
       "1929252                                       Tapas         N             1   \n",
       "702774   Scrambled eggs with ham, onion and peppers         Y             1   \n",
       "\n",
       "        Prebooked_Satisfaction  \n",
       "1929252                      0  \n",
       "702774                       1  \n",
       "\n",
       "[2 rows x 44 columns]"
      ]
     },
     "execution_count": 62,
     "metadata": {},
     "output_type": "execute_result"
    }
   ],
   "source": [
    "preorder_satisfaction[\"Prebooked_Satisfaction\"] = np.where(preorder_satisfaction[\"is_entree\"] == 'Y', 1, 0)\n",
    "preorder_satisfaction.sample(2)"
   ]
  },
  {
   "cell_type": "code",
   "execution_count": 63,
   "metadata": {
    "id": "4fsrpqPO1FiM"
   },
   "outputs": [],
   "source": [
    "preorder_df= preorder_satisfaction[[\"flight_number\", \"Prebooked_Satisfaction\", \"origin_station_code\", \"destination_station_code\", \"scheduled_departure_date\", \"score\", \"is_entree\", \"pre_order_qty\"]]                       "
   ]
  },
  {
   "cell_type": "code",
   "execution_count": 64,
   "metadata": {
    "id": "QFiHJmgw69L-"
   },
   "outputs": [
    {
     "data": {
      "text/html": [
       "<div>\n",
       "<style scoped>\n",
       "    .dataframe tbody tr th:only-of-type {\n",
       "        vertical-align: middle;\n",
       "    }\n",
       "\n",
       "    .dataframe tbody tr th {\n",
       "        vertical-align: top;\n",
       "    }\n",
       "\n",
       "    .dataframe thead th {\n",
       "        text-align: right;\n",
       "    }\n",
       "</style>\n",
       "<table border=\"1\" class=\"dataframe\">\n",
       "  <thead>\n",
       "    <tr style=\"text-align: right;\">\n",
       "      <th></th>\n",
       "      <th>flight_number</th>\n",
       "      <th>Prebooked_Satisfaction</th>\n",
       "      <th>origin_station_code</th>\n",
       "      <th>destination_station_code</th>\n",
       "      <th>scheduled_departure_date</th>\n",
       "      <th>score</th>\n",
       "      <th>is_entree</th>\n",
       "      <th>pre_order_qty</th>\n",
       "    </tr>\n",
       "  </thead>\n",
       "  <tbody>\n",
       "    <tr>\n",
       "      <th>0</th>\n",
       "      <td>671</td>\n",
       "      <td>1</td>\n",
       "      <td>DEX</td>\n",
       "      <td>COX</td>\n",
       "      <td>9/1/2022</td>\n",
       "      <td>5</td>\n",
       "      <td>Y</td>\n",
       "      <td>1</td>\n",
       "    </tr>\n",
       "    <tr>\n",
       "      <th>1</th>\n",
       "      <td>671</td>\n",
       "      <td>0</td>\n",
       "      <td>DEX</td>\n",
       "      <td>COX</td>\n",
       "      <td>9/1/2022</td>\n",
       "      <td>5</td>\n",
       "      <td>NaN</td>\n",
       "      <td>0</td>\n",
       "    </tr>\n",
       "    <tr>\n",
       "      <th>2</th>\n",
       "      <td>671</td>\n",
       "      <td>1</td>\n",
       "      <td>DEX</td>\n",
       "      <td>COX</td>\n",
       "      <td>9/1/2022</td>\n",
       "      <td>5</td>\n",
       "      <td>Y</td>\n",
       "      <td>3</td>\n",
       "    </tr>\n",
       "    <tr>\n",
       "      <th>3</th>\n",
       "      <td>671</td>\n",
       "      <td>0</td>\n",
       "      <td>DEX</td>\n",
       "      <td>COX</td>\n",
       "      <td>9/1/2022</td>\n",
       "      <td>5</td>\n",
       "      <td>NaN</td>\n",
       "      <td>0</td>\n",
       "    </tr>\n",
       "    <tr>\n",
       "      <th>4</th>\n",
       "      <td>671</td>\n",
       "      <td>1</td>\n",
       "      <td>DEX</td>\n",
       "      <td>COX</td>\n",
       "      <td>9/8/2022</td>\n",
       "      <td>1</td>\n",
       "      <td>Y</td>\n",
       "      <td>1</td>\n",
       "    </tr>\n",
       "    <tr>\n",
       "      <th>...</th>\n",
       "      <td>...</td>\n",
       "      <td>...</td>\n",
       "      <td>...</td>\n",
       "      <td>...</td>\n",
       "      <td>...</td>\n",
       "      <td>...</td>\n",
       "      <td>...</td>\n",
       "      <td>...</td>\n",
       "    </tr>\n",
       "    <tr>\n",
       "      <th>3638512</th>\n",
       "      <td>1550</td>\n",
       "      <td>1</td>\n",
       "      <td>ORX</td>\n",
       "      <td>PSX</td>\n",
       "      <td>9/30/2022</td>\n",
       "      <td>5</td>\n",
       "      <td>Y</td>\n",
       "      <td>2</td>\n",
       "    </tr>\n",
       "    <tr>\n",
       "      <th>3638513</th>\n",
       "      <td>1550</td>\n",
       "      <td>1</td>\n",
       "      <td>ORX</td>\n",
       "      <td>PSX</td>\n",
       "      <td>9/30/2022</td>\n",
       "      <td>5</td>\n",
       "      <td>Y</td>\n",
       "      <td>1</td>\n",
       "    </tr>\n",
       "    <tr>\n",
       "      <th>3638514</th>\n",
       "      <td>1550</td>\n",
       "      <td>1</td>\n",
       "      <td>ORX</td>\n",
       "      <td>PSX</td>\n",
       "      <td>9/30/2022</td>\n",
       "      <td>5</td>\n",
       "      <td>Y</td>\n",
       "      <td>2</td>\n",
       "    </tr>\n",
       "    <tr>\n",
       "      <th>3638515</th>\n",
       "      <td>1550</td>\n",
       "      <td>1</td>\n",
       "      <td>ORX</td>\n",
       "      <td>PSX</td>\n",
       "      <td>9/30/2022</td>\n",
       "      <td>5</td>\n",
       "      <td>Y</td>\n",
       "      <td>1</td>\n",
       "    </tr>\n",
       "    <tr>\n",
       "      <th>3638516</th>\n",
       "      <td>1550</td>\n",
       "      <td>1</td>\n",
       "      <td>ORX</td>\n",
       "      <td>PSX</td>\n",
       "      <td>9/30/2022</td>\n",
       "      <td>5</td>\n",
       "      <td>Y</td>\n",
       "      <td>1</td>\n",
       "    </tr>\n",
       "  </tbody>\n",
       "</table>\n",
       "<p>2730973 rows × 8 columns</p>\n",
       "</div>"
      ],
      "text/plain": [
       "         flight_number  Prebooked_Satisfaction origin_station_code  \\\n",
       "0                  671                       1                 DEX   \n",
       "1                  671                       0                 DEX   \n",
       "2                  671                       1                 DEX   \n",
       "3                  671                       0                 DEX   \n",
       "4                  671                       1                 DEX   \n",
       "...                ...                     ...                 ...   \n",
       "3638512           1550                       1                 ORX   \n",
       "3638513           1550                       1                 ORX   \n",
       "3638514           1550                       1                 ORX   \n",
       "3638515           1550                       1                 ORX   \n",
       "3638516           1550                       1                 ORX   \n",
       "\n",
       "        destination_station_code scheduled_departure_date score is_entree  \\\n",
       "0                            COX                 9/1/2022     5         Y   \n",
       "1                            COX                 9/1/2022     5       NaN   \n",
       "2                            COX                 9/1/2022     5         Y   \n",
       "3                            COX                 9/1/2022     5       NaN   \n",
       "4                            COX                 9/8/2022     1         Y   \n",
       "...                          ...                      ...   ...       ...   \n",
       "3638512                      PSX                9/30/2022     5         Y   \n",
       "3638513                      PSX                9/30/2022     5         Y   \n",
       "3638514                      PSX                9/30/2022     5         Y   \n",
       "3638515                      PSX                9/30/2022     5         Y   \n",
       "3638516                      PSX                9/30/2022     5         Y   \n",
       "\n",
       "         pre_order_qty  \n",
       "0                    1  \n",
       "1                    0  \n",
       "2                    3  \n",
       "3                    0  \n",
       "4                    1  \n",
       "...                ...  \n",
       "3638512              2  \n",
       "3638513              1  \n",
       "3638514              2  \n",
       "3638515              1  \n",
       "3638516              1  \n",
       "\n",
       "[2730973 rows x 8 columns]"
      ]
     },
     "execution_count": 64,
     "metadata": {},
     "output_type": "execute_result"
    }
   ],
   "source": [
    "preorder_df"
   ]
  },
  {
   "cell_type": "code",
   "execution_count": 65,
   "metadata": {
    "id": "2r4m5VXO7pDX"
   },
   "outputs": [
    {
     "data": {
      "text/plain": [
       "<AxesSubplot:ylabel='count'>"
      ]
     },
     "execution_count": 65,
     "metadata": {},
     "output_type": "execute_result"
    },
    {
     "data": {
      "image/png": "[encoded data removed]",
      "text/plain": [
       "<Figure size 432x288 with 1 Axes>"
      ]
     },
     "metadata": {},
     "output_type": "display_data"
    }
   ],
   "source": [
    "preorder_satisfaction[\"Prebooked_Satisfaction\"].value_counts().plot(kind=\"pie\",autopct='%0.1f%%')"
   ]
  },
  {
   "cell_type": "code",
   "execution_count": 66,
   "metadata": {},
   "outputs": [
    {
     "data": {
      "text/plain": [
       "<AxesSubplot:xlabel='score'>"
      ]
     },
     "execution_count": 66,
     "metadata": {},
     "output_type": "execute_result"
    },
    {
     "data": {
      "image/png": "[encoded data removed]",
      "text/plain": [
       "<Figure size 432x288 with 1 Axes>"
      ]
     },
     "metadata": {
      "needs_background": "light"
     },
     "output_type": "display_data"
    }
   ],
   "source": [
    "preorder_satisfaction[\"score\"].value_counts().plot(kind=\"bar\")"
   ]
  },
  {
   "cell_type": "code",
   "execution_count": null,
   "metadata": {},
   "outputs": [],
   "source": []
  }
 ],
 "metadata": {
  "colab": {
   "provenance": []
  },
  "kernelspec": {
   "display_name": "Python 3 (ipykernel)",
   "language": "python",
   "name": "python3"
  },
  "language_info": {
   "codemirror_mode": {
    "name": "ipython",
    "version": 3
   },
   "file_extension": ".py",
   "mimetype": "text/x-python",
   "name": "python",
   "nbconvert_exporter": "python",
   "pygments_lexer": "ipython3",
   "version": "3.9.12"
  }
 },
 "nbformat": 4,
 "nbformat_minor": 1
}
